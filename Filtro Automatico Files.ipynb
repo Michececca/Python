{
 "cells": [
  {
   "cell_type": "markdown",
   "id": "3d563a5b",
   "metadata": {},
   "source": [
    "<h1> Filtro FIles Automatico </h1>"
   ]
  },
  {
   "cell_type": "code",
   "execution_count": null,
   "id": "772c6da8",
   "metadata": {},
   "outputs": [],
   "source": [
    "import os, shutil"
   ]
  },
  {
   "cell_type": "code",
   "execution_count": null,
   "id": "89308977",
   "metadata": {},
   "outputs": [],
   "source": [
    "path = r'C:\\Users\\......\\\\'"
   ]
  },
  {
   "cell_type": "code",
   "execution_count": null,
   "id": "b22dd902",
   "metadata": {},
   "outputs": [],
   "source": [
    "#Mostra file nel percorso\n",
    "\n",
    "os.listdir(path)\n"
   ]
  },
  {
   "cell_type": "code",
   "execution_count": null,
   "id": "777102ea",
   "metadata": {},
   "outputs": [],
   "source": [
    "folder_names = ['CSV Files','Text Files','Image Files']\n",
    "\n",
    "#cerca nella cartella folder names se è presente una cartella con i nomi elencati, se non c'è creane una\n",
    "\n",
    "for folder in folder_names:\n",
    "    if not os.path.exists(path + folder):\n",
    "        os.makedirs(path + folder)\n",
    "        "
   ]
  },
  {
   "cell_type": "code",
   "execution_count": null,
   "id": "3a80a597",
   "metadata": {},
   "outputs": [],
   "source": [
    "os.listdir(path)\n",
    "path = r'C:\\Users\\......\\\\'"
   ]
  },
  {
   "cell_type": "code",
   "execution_count": null,
   "id": "f7b76c38",
   "metadata": {},
   "outputs": [],
   "source": [
    "file_names = os.listdir(path)\n",
    "\n",
    "#Se nel percoso non è presente il file selezionato, portalo dentro la cartella corrispondente\n",
    "\n",
    "for file in file_names:\n",
    "    if \".csv\" in file and not os.path.exists(path + 'CSV Files\\\\' + file)\n",
    "        shutil.move(path + file,path + 'CSV Files\\\\' + file)\n",
    "    elif \".png\" in file and not os.path.exists(path + 'Image Files\\\\' + file)\n",
    "        shutil.move(path + file,path + 'Image Files\\\\' + file)\n",
    "    elif \".txt\" in file and not os.path.exists(path + 'Text Files\\\\' + file)\n",
    "        shutil.move(path + file,path + 'Text Files\\\\' + file)"
   ]
  },
  {
   "cell_type": "markdown",
   "id": "638c9226",
   "metadata": {},
   "source": [
    "<h3> Tutto il codice di seguito: <h2>"
   ]
  },
  {
   "cell_type": "code",
   "execution_count": null,
   "id": "17840d11",
   "metadata": {},
   "outputs": [],
   "source": [
    "folder_names = ['CSV Files','Text Files','Image Files']\n",
    "\n",
    "#cerca nella cartella folder names se è presente una cartella con i nomi elencati, se non c'è creane una\n",
    "\n",
    "for folder in folder_names:\n",
    "    if not os.path.exists(path + folder):\n",
    "        os.makedirs(path + folder)\n",
    "\n",
    "        \n",
    "        \n",
    "file_names = os.listdir(path)\n",
    "\n",
    "#Se nel percoso non è presente il file selezionato, portalo dentro la cartella corrispondente\n",
    "\n",
    "for file in file_names:\n",
    "    if \".csv\" in file and not os.path.exists(path + 'CSV Files\\\\' + file)\n",
    "        shutil.move(path + file,path + 'CSV Files\\\\' + file)\n",
    "    elif \".png\" in file and not os.path.exists(path + 'Image Files\\\\' + file)\n",
    "        shutil.move(path + file,path + 'Image Files\\\\' + file)\n",
    "    elif \".txt\" in file and not os.path.exists(path + 'Text Files\\\\' + file)\n",
    "        shutil.move(path + file,path + 'Text Files\\\\' + file)"
   ]
  },
  {
   "cell_type": "code",
   "execution_count": null,
   "id": "afc3078b",
   "metadata": {},
   "outputs": [],
   "source": []
  },
  {
   "cell_type": "code",
   "execution_count": null,
   "id": "3bb538a1",
   "metadata": {},
   "outputs": [],
   "source": []
  }
 ],
 "metadata": {
  "kernelspec": {
   "display_name": "Python 3 (ipykernel)",
   "language": "python",
   "name": "python3"
  },
  "language_info": {
   "codemirror_mode": {
    "name": "ipython",
    "version": 3
   },
   "file_extension": ".py",
   "mimetype": "text/x-python",
   "name": "python",
   "nbconvert_exporter": "python",
   "pygments_lexer": "ipython3",
   "version": "3.11.7"
  }
 },
 "nbformat": 4,
 "nbformat_minor": 5
}
