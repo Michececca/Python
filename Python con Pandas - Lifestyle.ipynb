{
 "cells": [
  {
   "cell_type": "markdown",
   "id": "c5816742-fb29-4ec7-9ce5-82740d7dfdc6",
   "metadata": {},
   "source": [
    "<h1>PROGETTO PYTHON MICHELE CECCARINI</h1>"
   ]
  },
  {
   "cell_type": "code",
   "execution_count": 51,
   "id": "a5260dcb-8466-4229-a106-31c66ac2b2ec",
   "metadata": {},
   "outputs": [],
   "source": [
    "#Importazione librerie\n",
    "\n",
    "import pandas as pd\n",
    "import numpy as np\n",
    "import matplotlib.pyplot as plt\n",
    "import seaborn as sns"
   ]
  },
  {
   "cell_type": "markdown",
   "id": "68f9008c-6581-440f-95c9-13236dbf8ebc",
   "metadata": {},
   "source": [
    "<h2>PRONTI?</h2>"
   ]
  },
  {
   "cell_type": "code",
   "execution_count": 52,
   "id": "3c1be1b6-c417-4854-90d6-7d36641a50c6",
   "metadata": {
    "scrolled": true
   },
   "outputs": [
    {
     "name": "stdout",
     "output_type": "stream",
     "text": [
      "10\n",
      "9\n",
      "8\n",
      "7\n",
      "6\n",
      "Scegliete velocemente un posto a sedere! Mancano solo 5 secondi.\n",
      "4\n",
      "3\n",
      "Ci siete? Ci siamo quasi!\n",
      "1\n",
      "Buona lettura!\n"
     ]
    }
   ],
   "source": [
    "from time import sleep \n",
    "\n",
    "mins = 10\n",
    "\n",
    "while mins >= 0:\n",
    "    if mins ==5:\n",
    "        print('Scegliete velocemente un posto a sedere! Mancano solo 5 secondi.')\n",
    "    elif mins ==2:\n",
    "        print('Ci siete? Ci siamo quasi!')\n",
    "    elif mins == 0:\n",
    "        print('Buona lettura!')\n",
    "    else:\n",
    "        print(mins)\n",
    "    mins -= 1\n",
    "    sleep(1)"
   ]
  },
  {
   "cell_type": "markdown",
   "id": "3da4979b-e60e-45f2-931a-b88e80b2ced8",
   "metadata": {},
   "source": [
    "<h2> Un primo sguardo ai dati</h2>"
   ]
  },
  {
   "cell_type": "code",
   "execution_count": 53,
   "id": "10717f51-f0d3-4634-be90-ad5e4ef8f21f",
   "metadata": {},
   "outputs": [
    {
     "data": {
      "text/html": [
       "<div>\n",
       "<style scoped>\n",
       "    .dataframe tbody tr th:only-of-type {\n",
       "        vertical-align: middle;\n",
       "    }\n",
       "\n",
       "    .dataframe tbody tr th {\n",
       "        vertical-align: top;\n",
       "    }\n",
       "\n",
       "    .dataframe thead th {\n",
       "        text-align: right;\n",
       "    }\n",
       "</style>\n",
       "<table border=\"1\" class=\"dataframe\">\n",
       "  <thead>\n",
       "    <tr style=\"text-align: right;\">\n",
       "      <th></th>\n",
       "      <th>App</th>\n",
       "      <th>Category</th>\n",
       "      <th>Rating</th>\n",
       "      <th>Reviews</th>\n",
       "      <th>Size</th>\n",
       "      <th>Installs</th>\n",
       "      <th>Type</th>\n",
       "      <th>Price</th>\n",
       "      <th>Content Rating</th>\n",
       "      <th>Genres</th>\n",
       "      <th>Last Updated</th>\n",
       "      <th>Current Ver</th>\n",
       "      <th>Android Ver</th>\n",
       "    </tr>\n",
       "  </thead>\n",
       "  <tbody>\n",
       "    <tr>\n",
       "      <th>0</th>\n",
       "      <td>Photo Editor &amp; Candy Camera &amp; Grid &amp; ScrapBook</td>\n",
       "      <td>ART_AND_DESIGN</td>\n",
       "      <td>4.1</td>\n",
       "      <td>159</td>\n",
       "      <td>19M</td>\n",
       "      <td>10,000+</td>\n",
       "      <td>Free</td>\n",
       "      <td>0</td>\n",
       "      <td>Everyone</td>\n",
       "      <td>Art &amp; Design</td>\n",
       "      <td>January 7, 2018</td>\n",
       "      <td>1.0.0</td>\n",
       "      <td>4.0.3 and up</td>\n",
       "    </tr>\n",
       "    <tr>\n",
       "      <th>1</th>\n",
       "      <td>Coloring book moana</td>\n",
       "      <td>ART_AND_DESIGN</td>\n",
       "      <td>3.9</td>\n",
       "      <td>967</td>\n",
       "      <td>14M</td>\n",
       "      <td>500,000+</td>\n",
       "      <td>Free</td>\n",
       "      <td>0</td>\n",
       "      <td>Everyone</td>\n",
       "      <td>Art &amp; Design;Pretend Play</td>\n",
       "      <td>January 15, 2018</td>\n",
       "      <td>2.0.0</td>\n",
       "      <td>4.0.3 and up</td>\n",
       "    </tr>\n",
       "    <tr>\n",
       "      <th>2</th>\n",
       "      <td>U Launcher Lite – FREE Live Cool Themes, Hide ...</td>\n",
       "      <td>ART_AND_DESIGN</td>\n",
       "      <td>4.7</td>\n",
       "      <td>87510</td>\n",
       "      <td>8.7M</td>\n",
       "      <td>5,000,000+</td>\n",
       "      <td>Free</td>\n",
       "      <td>0</td>\n",
       "      <td>Everyone</td>\n",
       "      <td>Art &amp; Design</td>\n",
       "      <td>August 1, 2018</td>\n",
       "      <td>1.2.4</td>\n",
       "      <td>4.0.3 and up</td>\n",
       "    </tr>\n",
       "    <tr>\n",
       "      <th>3</th>\n",
       "      <td>Sketch - Draw &amp; Paint</td>\n",
       "      <td>ART_AND_DESIGN</td>\n",
       "      <td>4.5</td>\n",
       "      <td>215644</td>\n",
       "      <td>25M</td>\n",
       "      <td>50,000,000+</td>\n",
       "      <td>Free</td>\n",
       "      <td>0</td>\n",
       "      <td>Teen</td>\n",
       "      <td>Art &amp; Design</td>\n",
       "      <td>June 8, 2018</td>\n",
       "      <td>Varies with device</td>\n",
       "      <td>4.2 and up</td>\n",
       "    </tr>\n",
       "    <tr>\n",
       "      <th>4</th>\n",
       "      <td>Pixel Draw - Number Art Coloring Book</td>\n",
       "      <td>ART_AND_DESIGN</td>\n",
       "      <td>4.3</td>\n",
       "      <td>967</td>\n",
       "      <td>2.8M</td>\n",
       "      <td>100,000+</td>\n",
       "      <td>Free</td>\n",
       "      <td>0</td>\n",
       "      <td>Everyone</td>\n",
       "      <td>Art &amp; Design;Creativity</td>\n",
       "      <td>June 20, 2018</td>\n",
       "      <td>1.1</td>\n",
       "      <td>4.4 and up</td>\n",
       "    </tr>\n",
       "    <tr>\n",
       "      <th>5</th>\n",
       "      <td>Paper flowers instructions</td>\n",
       "      <td>ART_AND_DESIGN</td>\n",
       "      <td>4.4</td>\n",
       "      <td>167</td>\n",
       "      <td>5.6M</td>\n",
       "      <td>50,000+</td>\n",
       "      <td>Free</td>\n",
       "      <td>0</td>\n",
       "      <td>Everyone</td>\n",
       "      <td>Art &amp; Design</td>\n",
       "      <td>March 26, 2017</td>\n",
       "      <td>1.0</td>\n",
       "      <td>2.3 and up</td>\n",
       "    </tr>\n",
       "    <tr>\n",
       "      <th>6</th>\n",
       "      <td>Smoke Effect Photo Maker - Smoke Editor</td>\n",
       "      <td>ART_AND_DESIGN</td>\n",
       "      <td>3.8</td>\n",
       "      <td>178</td>\n",
       "      <td>19M</td>\n",
       "      <td>50,000+</td>\n",
       "      <td>Free</td>\n",
       "      <td>0</td>\n",
       "      <td>Everyone</td>\n",
       "      <td>Art &amp; Design</td>\n",
       "      <td>April 26, 2018</td>\n",
       "      <td>1.1</td>\n",
       "      <td>4.0.3 and up</td>\n",
       "    </tr>\n",
       "    <tr>\n",
       "      <th>7</th>\n",
       "      <td>Infinite Painter</td>\n",
       "      <td>ART_AND_DESIGN</td>\n",
       "      <td>4.1</td>\n",
       "      <td>36815</td>\n",
       "      <td>29M</td>\n",
       "      <td>1,000,000+</td>\n",
       "      <td>Free</td>\n",
       "      <td>0</td>\n",
       "      <td>Everyone</td>\n",
       "      <td>Art &amp; Design</td>\n",
       "      <td>June 14, 2018</td>\n",
       "      <td>6.1.61.1</td>\n",
       "      <td>4.2 and up</td>\n",
       "    </tr>\n",
       "    <tr>\n",
       "      <th>8</th>\n",
       "      <td>Garden Coloring Book</td>\n",
       "      <td>ART_AND_DESIGN</td>\n",
       "      <td>4.4</td>\n",
       "      <td>13791</td>\n",
       "      <td>33M</td>\n",
       "      <td>1,000,000+</td>\n",
       "      <td>Free</td>\n",
       "      <td>0</td>\n",
       "      <td>Everyone</td>\n",
       "      <td>Art &amp; Design</td>\n",
       "      <td>September 20, 2017</td>\n",
       "      <td>2.9.2</td>\n",
       "      <td>3.0 and up</td>\n",
       "    </tr>\n",
       "    <tr>\n",
       "      <th>9</th>\n",
       "      <td>Kids Paint Free - Drawing Fun</td>\n",
       "      <td>ART_AND_DESIGN</td>\n",
       "      <td>4.7</td>\n",
       "      <td>121</td>\n",
       "      <td>3.1M</td>\n",
       "      <td>10,000+</td>\n",
       "      <td>Free</td>\n",
       "      <td>0</td>\n",
       "      <td>Everyone</td>\n",
       "      <td>Art &amp; Design;Creativity</td>\n",
       "      <td>July 3, 2018</td>\n",
       "      <td>2.8</td>\n",
       "      <td>4.0.3 and up</td>\n",
       "    </tr>\n",
       "  </tbody>\n",
       "</table>\n",
       "</div>"
      ],
      "text/plain": [
       "                                                 App        Category  Rating  \\\n",
       "0     Photo Editor & Candy Camera & Grid & ScrapBook  ART_AND_DESIGN     4.1   \n",
       "1                                Coloring book moana  ART_AND_DESIGN     3.9   \n",
       "2  U Launcher Lite – FREE Live Cool Themes, Hide ...  ART_AND_DESIGN     4.7   \n",
       "3                              Sketch - Draw & Paint  ART_AND_DESIGN     4.5   \n",
       "4              Pixel Draw - Number Art Coloring Book  ART_AND_DESIGN     4.3   \n",
       "5                         Paper flowers instructions  ART_AND_DESIGN     4.4   \n",
       "6            Smoke Effect Photo Maker - Smoke Editor  ART_AND_DESIGN     3.8   \n",
       "7                                   Infinite Painter  ART_AND_DESIGN     4.1   \n",
       "8                               Garden Coloring Book  ART_AND_DESIGN     4.4   \n",
       "9                      Kids Paint Free - Drawing Fun  ART_AND_DESIGN     4.7   \n",
       "\n",
       "  Reviews  Size     Installs  Type Price Content Rating  \\\n",
       "0     159   19M      10,000+  Free     0       Everyone   \n",
       "1     967   14M     500,000+  Free     0       Everyone   \n",
       "2   87510  8.7M   5,000,000+  Free     0       Everyone   \n",
       "3  215644   25M  50,000,000+  Free     0           Teen   \n",
       "4     967  2.8M     100,000+  Free     0       Everyone   \n",
       "5     167  5.6M      50,000+  Free     0       Everyone   \n",
       "6     178   19M      50,000+  Free     0       Everyone   \n",
       "7   36815   29M   1,000,000+  Free     0       Everyone   \n",
       "8   13791   33M   1,000,000+  Free     0       Everyone   \n",
       "9     121  3.1M      10,000+  Free     0       Everyone   \n",
       "\n",
       "                      Genres        Last Updated         Current Ver  \\\n",
       "0               Art & Design     January 7, 2018               1.0.0   \n",
       "1  Art & Design;Pretend Play    January 15, 2018               2.0.0   \n",
       "2               Art & Design      August 1, 2018               1.2.4   \n",
       "3               Art & Design        June 8, 2018  Varies with device   \n",
       "4    Art & Design;Creativity       June 20, 2018                 1.1   \n",
       "5               Art & Design      March 26, 2017                 1.0   \n",
       "6               Art & Design      April 26, 2018                 1.1   \n",
       "7               Art & Design       June 14, 2018            6.1.61.1   \n",
       "8               Art & Design  September 20, 2017               2.9.2   \n",
       "9    Art & Design;Creativity        July 3, 2018                 2.8   \n",
       "\n",
       "    Android Ver  \n",
       "0  4.0.3 and up  \n",
       "1  4.0.3 and up  \n",
       "2  4.0.3 and up  \n",
       "3    4.2 and up  \n",
       "4    4.4 and up  \n",
       "5    2.3 and up  \n",
       "6  4.0.3 and up  \n",
       "7    4.2 and up  \n",
       "8    3.0 and up  \n",
       "9  4.0.3 and up  "
      ]
     },
     "execution_count": 53,
     "metadata": {},
     "output_type": "execute_result"
    }
   ],
   "source": [
    "#Importiamo i due dataset\n",
    "#Utilizziamo .head() per dare una prima occhiata\n",
    "df = pd.read_csv(r\"C:\\Users\\utente\\Dropbox\\PC\\Desktop\\Cartella progetto\\googleplaystore.csv\")\n",
    "df.head(10)"
   ]
  },
  {
   "cell_type": "code",
   "execution_count": 54,
   "id": "71488f3f-6cc0-4b61-913b-e2366da1a939",
   "metadata": {},
   "outputs": [
    {
     "data": {
      "text/plain": [
       "(10841, 13)"
      ]
     },
     "execution_count": 54,
     "metadata": {},
     "output_type": "execute_result"
    }
   ],
   "source": [
    "df.shape"
   ]
  },
  {
   "cell_type": "code",
   "execution_count": 55,
   "id": "b5025aa7-496e-403e-bd58-d9d412f350ed",
   "metadata": {},
   "outputs": [
    {
     "data": {
      "text/plain": [
       "Index(['App', 'Category', 'Rating', 'Reviews', 'Size', 'Installs', 'Type',\n",
       "       'Price', 'Content Rating', 'Genres', 'Last Updated', 'Current Ver',\n",
       "       'Android Ver'],\n",
       "      dtype='object')"
      ]
     },
     "execution_count": 55,
     "metadata": {},
     "output_type": "execute_result"
    }
   ],
   "source": [
    "df.columns"
   ]
  },
  {
   "cell_type": "code",
   "execution_count": 56,
   "id": "9e347cd4-6496-42db-93cf-3873dd8ca8bc",
   "metadata": {},
   "outputs": [
    {
     "name": "stdout",
     "output_type": "stream",
     "text": [
      "<class 'pandas.core.frame.DataFrame'>\n",
      "RangeIndex: 10841 entries, 0 to 10840\n",
      "Data columns (total 13 columns):\n",
      " #   Column          Non-Null Count  Dtype  \n",
      "---  ------          --------------  -----  \n",
      " 0   App             10841 non-null  object \n",
      " 1   Category        10841 non-null  object \n",
      " 2   Rating          9367 non-null   float64\n",
      " 3   Reviews         10841 non-null  object \n",
      " 4   Size            10841 non-null  object \n",
      " 5   Installs        10841 non-null  object \n",
      " 6   Type            10840 non-null  object \n",
      " 7   Price           10841 non-null  object \n",
      " 8   Content Rating  10840 non-null  object \n",
      " 9   Genres          10841 non-null  object \n",
      " 10  Last Updated    10841 non-null  object \n",
      " 11  Current Ver     10833 non-null  object \n",
      " 12  Android Ver     10838 non-null  object \n",
      "dtypes: float64(1), object(12)\n",
      "memory usage: 1.1+ MB\n"
     ]
    }
   ],
   "source": [
    "df.info()"
   ]
  },
  {
   "cell_type": "markdown",
   "id": "e829925c-bb2e-41e5-9105-dc8aa82b7cb0",
   "metadata": {},
   "source": [
    "Possiamo notare come il dataset sia composto da 13 colonne e 10841 righe. Inoltre nella colonna ' Rating ' ci sono diversi valori nulli."
   ]
  },
  {
   "cell_type": "markdown",
   "id": "1fec594c-a541-4d2c-8984-8c09262391b9",
   "metadata": {},
   "source": [
    "<h2>Un pò di pulizia</h2>"
   ]
  },
  {
   "cell_type": "code",
   "execution_count": 57,
   "id": "ad04d04e-a56a-4ca9-8171-f43262f924ae",
   "metadata": {},
   "outputs": [
    {
     "data": {
      "text/html": [
       "<div>\n",
       "<style scoped>\n",
       "    .dataframe tbody tr th:only-of-type {\n",
       "        vertical-align: middle;\n",
       "    }\n",
       "\n",
       "    .dataframe tbody tr th {\n",
       "        vertical-align: top;\n",
       "    }\n",
       "\n",
       "    .dataframe thead th {\n",
       "        text-align: right;\n",
       "    }\n",
       "</style>\n",
       "<table border=\"1\" class=\"dataframe\">\n",
       "  <thead>\n",
       "    <tr style=\"text-align: right;\">\n",
       "      <th></th>\n",
       "      <th>App</th>\n",
       "      <th>Category</th>\n",
       "      <th>Rating</th>\n",
       "      <th>Reviews</th>\n",
       "      <th>Size</th>\n",
       "      <th>Installs</th>\n",
       "      <th>Type</th>\n",
       "      <th>Price</th>\n",
       "      <th>Content Rating</th>\n",
       "      <th>Genres</th>\n",
       "      <th>Last Updated</th>\n",
       "      <th>Current Ver</th>\n",
       "      <th>Android Ver</th>\n",
       "    </tr>\n",
       "  </thead>\n",
       "  <tbody>\n",
       "    <tr>\n",
       "      <th>23</th>\n",
       "      <td>Mcqueen Coloring pages</td>\n",
       "      <td>ART_AND_DESIGN</td>\n",
       "      <td>NaN</td>\n",
       "      <td>61</td>\n",
       "      <td>7.0M</td>\n",
       "      <td>100,000+</td>\n",
       "      <td>Free</td>\n",
       "      <td>0</td>\n",
       "      <td>Everyone</td>\n",
       "      <td>Art &amp; Design;Action &amp; Adventure</td>\n",
       "      <td>March 7, 2018</td>\n",
       "      <td>1.0.0</td>\n",
       "      <td>4.1 and up</td>\n",
       "    </tr>\n",
       "    <tr>\n",
       "      <th>113</th>\n",
       "      <td>Wrinkles and rejuvenation</td>\n",
       "      <td>BEAUTY</td>\n",
       "      <td>NaN</td>\n",
       "      <td>182</td>\n",
       "      <td>5.7M</td>\n",
       "      <td>100,000+</td>\n",
       "      <td>Free</td>\n",
       "      <td>0</td>\n",
       "      <td>Everyone 10+</td>\n",
       "      <td>Beauty</td>\n",
       "      <td>September 20, 2017</td>\n",
       "      <td>8.0</td>\n",
       "      <td>3.0 and up</td>\n",
       "    </tr>\n",
       "    <tr>\n",
       "      <th>123</th>\n",
       "      <td>Manicure - nail design</td>\n",
       "      <td>BEAUTY</td>\n",
       "      <td>NaN</td>\n",
       "      <td>119</td>\n",
       "      <td>3.7M</td>\n",
       "      <td>50,000+</td>\n",
       "      <td>Free</td>\n",
       "      <td>0</td>\n",
       "      <td>Everyone</td>\n",
       "      <td>Beauty</td>\n",
       "      <td>July 23, 2018</td>\n",
       "      <td>1.3</td>\n",
       "      <td>4.1 and up</td>\n",
       "    </tr>\n",
       "    <tr>\n",
       "      <th>126</th>\n",
       "      <td>Skin Care and Natural Beauty</td>\n",
       "      <td>BEAUTY</td>\n",
       "      <td>NaN</td>\n",
       "      <td>654</td>\n",
       "      <td>7.4M</td>\n",
       "      <td>100,000+</td>\n",
       "      <td>Free</td>\n",
       "      <td>0</td>\n",
       "      <td>Teen</td>\n",
       "      <td>Beauty</td>\n",
       "      <td>July 17, 2018</td>\n",
       "      <td>1.15</td>\n",
       "      <td>4.1 and up</td>\n",
       "    </tr>\n",
       "    <tr>\n",
       "      <th>129</th>\n",
       "      <td>Secrets of beauty, youth and health</td>\n",
       "      <td>BEAUTY</td>\n",
       "      <td>NaN</td>\n",
       "      <td>77</td>\n",
       "      <td>2.9M</td>\n",
       "      <td>10,000+</td>\n",
       "      <td>Free</td>\n",
       "      <td>0</td>\n",
       "      <td>Mature 17+</td>\n",
       "      <td>Beauty</td>\n",
       "      <td>August 8, 2017</td>\n",
       "      <td>2.0</td>\n",
       "      <td>2.3 and up</td>\n",
       "    </tr>\n",
       "    <tr>\n",
       "      <th>...</th>\n",
       "      <td>...</td>\n",
       "      <td>...</td>\n",
       "      <td>...</td>\n",
       "      <td>...</td>\n",
       "      <td>...</td>\n",
       "      <td>...</td>\n",
       "      <td>...</td>\n",
       "      <td>...</td>\n",
       "      <td>...</td>\n",
       "      <td>...</td>\n",
       "      <td>...</td>\n",
       "      <td>...</td>\n",
       "      <td>...</td>\n",
       "    </tr>\n",
       "    <tr>\n",
       "      <th>10824</th>\n",
       "      <td>Cardio-FR</td>\n",
       "      <td>MEDICAL</td>\n",
       "      <td>NaN</td>\n",
       "      <td>67</td>\n",
       "      <td>82M</td>\n",
       "      <td>10,000+</td>\n",
       "      <td>Free</td>\n",
       "      <td>0</td>\n",
       "      <td>Everyone</td>\n",
       "      <td>Medical</td>\n",
       "      <td>July 31, 2018</td>\n",
       "      <td>2.2.2</td>\n",
       "      <td>4.4 and up</td>\n",
       "    </tr>\n",
       "    <tr>\n",
       "      <th>10825</th>\n",
       "      <td>Naruto &amp; Boruto FR</td>\n",
       "      <td>SOCIAL</td>\n",
       "      <td>NaN</td>\n",
       "      <td>7</td>\n",
       "      <td>7.7M</td>\n",
       "      <td>100+</td>\n",
       "      <td>Free</td>\n",
       "      <td>0</td>\n",
       "      <td>Teen</td>\n",
       "      <td>Social</td>\n",
       "      <td>February 2, 2018</td>\n",
       "      <td>1.0</td>\n",
       "      <td>4.0 and up</td>\n",
       "    </tr>\n",
       "    <tr>\n",
       "      <th>10831</th>\n",
       "      <td>payermonstationnement.fr</td>\n",
       "      <td>MAPS_AND_NAVIGATION</td>\n",
       "      <td>NaN</td>\n",
       "      <td>38</td>\n",
       "      <td>9.8M</td>\n",
       "      <td>5,000+</td>\n",
       "      <td>Free</td>\n",
       "      <td>0</td>\n",
       "      <td>Everyone</td>\n",
       "      <td>Maps &amp; Navigation</td>\n",
       "      <td>June 13, 2018</td>\n",
       "      <td>2.0.148.0</td>\n",
       "      <td>4.0 and up</td>\n",
       "    </tr>\n",
       "    <tr>\n",
       "      <th>10835</th>\n",
       "      <td>FR Forms</td>\n",
       "      <td>BUSINESS</td>\n",
       "      <td>NaN</td>\n",
       "      <td>0</td>\n",
       "      <td>9.6M</td>\n",
       "      <td>10+</td>\n",
       "      <td>Free</td>\n",
       "      <td>0</td>\n",
       "      <td>Everyone</td>\n",
       "      <td>Business</td>\n",
       "      <td>September 29, 2016</td>\n",
       "      <td>1.1.5</td>\n",
       "      <td>4.0 and up</td>\n",
       "    </tr>\n",
       "    <tr>\n",
       "      <th>10838</th>\n",
       "      <td>Parkinson Exercices FR</td>\n",
       "      <td>MEDICAL</td>\n",
       "      <td>NaN</td>\n",
       "      <td>3</td>\n",
       "      <td>9.5M</td>\n",
       "      <td>1,000+</td>\n",
       "      <td>Free</td>\n",
       "      <td>0</td>\n",
       "      <td>Everyone</td>\n",
       "      <td>Medical</td>\n",
       "      <td>January 20, 2017</td>\n",
       "      <td>1.0</td>\n",
       "      <td>2.2 and up</td>\n",
       "    </tr>\n",
       "  </tbody>\n",
       "</table>\n",
       "<p>1474 rows × 13 columns</p>\n",
       "</div>"
      ],
      "text/plain": [
       "                                       App             Category  Rating  \\\n",
       "23                  Mcqueen Coloring pages       ART_AND_DESIGN     NaN   \n",
       "113              Wrinkles and rejuvenation               BEAUTY     NaN   \n",
       "123                 Manicure - nail design               BEAUTY     NaN   \n",
       "126           Skin Care and Natural Beauty               BEAUTY     NaN   \n",
       "129    Secrets of beauty, youth and health               BEAUTY     NaN   \n",
       "...                                    ...                  ...     ...   \n",
       "10824                            Cardio-FR              MEDICAL     NaN   \n",
       "10825                   Naruto & Boruto FR               SOCIAL     NaN   \n",
       "10831             payermonstationnement.fr  MAPS_AND_NAVIGATION     NaN   \n",
       "10835                             FR Forms             BUSINESS     NaN   \n",
       "10838               Parkinson Exercices FR              MEDICAL     NaN   \n",
       "\n",
       "      Reviews  Size  Installs  Type Price Content Rating  \\\n",
       "23         61  7.0M  100,000+  Free     0       Everyone   \n",
       "113       182  5.7M  100,000+  Free     0   Everyone 10+   \n",
       "123       119  3.7M   50,000+  Free     0       Everyone   \n",
       "126       654  7.4M  100,000+  Free     0           Teen   \n",
       "129        77  2.9M   10,000+  Free     0     Mature 17+   \n",
       "...       ...   ...       ...   ...   ...            ...   \n",
       "10824      67   82M   10,000+  Free     0       Everyone   \n",
       "10825       7  7.7M      100+  Free     0           Teen   \n",
       "10831      38  9.8M    5,000+  Free     0       Everyone   \n",
       "10835       0  9.6M       10+  Free     0       Everyone   \n",
       "10838       3  9.5M    1,000+  Free     0       Everyone   \n",
       "\n",
       "                                Genres        Last Updated Current Ver  \\\n",
       "23     Art & Design;Action & Adventure       March 7, 2018       1.0.0   \n",
       "113                             Beauty  September 20, 2017         8.0   \n",
       "123                             Beauty       July 23, 2018         1.3   \n",
       "126                             Beauty       July 17, 2018        1.15   \n",
       "129                             Beauty      August 8, 2017         2.0   \n",
       "...                                ...                 ...         ...   \n",
       "10824                          Medical       July 31, 2018       2.2.2   \n",
       "10825                           Social    February 2, 2018         1.0   \n",
       "10831                Maps & Navigation       June 13, 2018   2.0.148.0   \n",
       "10835                         Business  September 29, 2016       1.1.5   \n",
       "10838                          Medical    January 20, 2017         1.0   \n",
       "\n",
       "      Android Ver  \n",
       "23     4.1 and up  \n",
       "113    3.0 and up  \n",
       "123    4.1 and up  \n",
       "126    4.1 and up  \n",
       "129    2.3 and up  \n",
       "...           ...  \n",
       "10824  4.4 and up  \n",
       "10825  4.0 and up  \n",
       "10831  4.0 and up  \n",
       "10835  4.0 and up  \n",
       "10838  2.2 and up  \n",
       "\n",
       "[1474 rows x 13 columns]"
      ]
     },
     "execution_count": 57,
     "metadata": {},
     "output_type": "execute_result"
    }
   ],
   "source": [
    "#Isoliamo i valori nulli della colonna 'Rating' \n",
    "null_rating = df[df['Rating'].isnull()]\n",
    "null_rating"
   ]
  },
  {
   "cell_type": "markdown",
   "id": "91e4ba8d-ca45-4837-8e4a-f5b7aefb27a9",
   "metadata": {},
   "source": [
    "Sostituisco i valori NaN della colonna 'Rating' con la loro media come da best practice. "
   ]
  },
  {
   "cell_type": "code",
   "execution_count": 58,
   "id": "aca281ee-dd36-4a07-b939-dc59cd7b27a3",
   "metadata": {},
   "outputs": [],
   "source": [
    "df['Rating'] = df['Rating'].fillna(df['Rating'].mean())"
   ]
  },
  {
   "cell_type": "code",
   "execution_count": 59,
   "id": "96838388-1a4f-48d1-934d-19b8c86772f7",
   "metadata": {},
   "outputs": [
    {
     "name": "stdout",
     "output_type": "stream",
     "text": [
      "<class 'pandas.core.frame.DataFrame'>\n",
      "RangeIndex: 10841 entries, 0 to 10840\n",
      "Data columns (total 13 columns):\n",
      " #   Column          Non-Null Count  Dtype  \n",
      "---  ------          --------------  -----  \n",
      " 0   App             10841 non-null  object \n",
      " 1   Category        10841 non-null  object \n",
      " 2   Rating          10841 non-null  float64\n",
      " 3   Reviews         10841 non-null  object \n",
      " 4   Size            10841 non-null  object \n",
      " 5   Installs        10841 non-null  object \n",
      " 6   Type            10840 non-null  object \n",
      " 7   Price           10841 non-null  object \n",
      " 8   Content Rating  10840 non-null  object \n",
      " 9   Genres          10841 non-null  object \n",
      " 10  Last Updated    10841 non-null  object \n",
      " 11  Current Ver     10833 non-null  object \n",
      " 12  Android Ver     10838 non-null  object \n",
      "dtypes: float64(1), object(12)\n",
      "memory usage: 1.1+ MB\n"
     ]
    }
   ],
   "source": [
    "df.info()"
   ]
  },
  {
   "cell_type": "code",
   "execution_count": 60,
   "id": "dfdb8d45-1ec2-481b-99e4-9e753c453f76",
   "metadata": {},
   "outputs": [
    {
     "data": {
      "text/html": [
       "<div>\n",
       "<style scoped>\n",
       "    .dataframe tbody tr th:only-of-type {\n",
       "        vertical-align: middle;\n",
       "    }\n",
       "\n",
       "    .dataframe tbody tr th {\n",
       "        vertical-align: top;\n",
       "    }\n",
       "\n",
       "    .dataframe thead th {\n",
       "        text-align: right;\n",
       "    }\n",
       "</style>\n",
       "<table border=\"1\" class=\"dataframe\">\n",
       "  <thead>\n",
       "    <tr style=\"text-align: right;\">\n",
       "      <th></th>\n",
       "      <th>Rating</th>\n",
       "    </tr>\n",
       "  </thead>\n",
       "  <tbody>\n",
       "    <tr>\n",
       "      <th>count</th>\n",
       "      <td>10841.000000</td>\n",
       "    </tr>\n",
       "    <tr>\n",
       "      <th>mean</th>\n",
       "      <td>4.193338</td>\n",
       "    </tr>\n",
       "    <tr>\n",
       "      <th>std</th>\n",
       "      <td>0.499557</td>\n",
       "    </tr>\n",
       "    <tr>\n",
       "      <th>min</th>\n",
       "      <td>1.000000</td>\n",
       "    </tr>\n",
       "    <tr>\n",
       "      <th>25%</th>\n",
       "      <td>4.100000</td>\n",
       "    </tr>\n",
       "    <tr>\n",
       "      <th>50%</th>\n",
       "      <td>4.200000</td>\n",
       "    </tr>\n",
       "    <tr>\n",
       "      <th>75%</th>\n",
       "      <td>4.500000</td>\n",
       "    </tr>\n",
       "    <tr>\n",
       "      <th>max</th>\n",
       "      <td>19.000000</td>\n",
       "    </tr>\n",
       "  </tbody>\n",
       "</table>\n",
       "</div>"
      ],
      "text/plain": [
       "             Rating\n",
       "count  10841.000000\n",
       "mean       4.193338\n",
       "std        0.499557\n",
       "min        1.000000\n",
       "25%        4.100000\n",
       "50%        4.200000\n",
       "75%        4.500000\n",
       "max       19.000000"
      ]
     },
     "execution_count": 60,
     "metadata": {},
     "output_type": "execute_result"
    }
   ],
   "source": [
    "df.describe()"
   ]
  },
  {
   "cell_type": "markdown",
   "id": "982aaeca-625e-4259-ad01-2c1ea03c0dcd",
   "metadata": {},
   "source": [
    "Da una prima analisi dei principali parametri statistici notiamo che se il valore minimo 1 della colonna rating è credibile, lo è sicuramente meno il valore massimo di 19 in quanto le votazioni vanno da 1 a 5. Trattasi quindi di dati che vanno corretti."
   ]
  },
  {
   "cell_type": "code",
   "execution_count": 61,
   "id": "6fa6ceaf-41b4-407b-b110-41bc59d30aae",
   "metadata": {},
   "outputs": [
    {
     "data": {
      "image/png": "[encoded data removed]",
      "text/plain": [
       "<Figure size 1000x600 with 1 Axes>"
      ]
     },
     "metadata": {},
     "output_type": "display_data"
    }
   ],
   "source": [
    "plt.figure(figsize=(10, 6))\n",
    "sns.boxplot(x=df['Rating'], color='skyblue')\n",
    "plt.title('Boxplot delle Valutazioni')\n",
    "plt.xlabel('Rating')\n",
    "plt.show()"
   ]
  },
  {
   "cell_type": "code",
   "execution_count": 62,
   "id": "89b32fd3-0033-477e-9582-4d3c0d4b09aa",
   "metadata": {},
   "outputs": [
    {
     "data": {
      "text/plain": [
       "Rating\n",
       "4.193338     1474\n",
       "4.400000     1109\n",
       "4.300000     1076\n",
       "4.500000     1038\n",
       "4.200000      952\n",
       "4.600000      823\n",
       "4.100000      708\n",
       "4.000000      568\n",
       "4.700000      499\n",
       "3.900000      386\n",
       "3.800000      303\n",
       "5.000000      274\n",
       "3.700000      239\n",
       "4.800000      234\n",
       "3.600000      174\n",
       "3.500000      163\n",
       "3.400000      128\n",
       "3.300000      102\n",
       "4.900000       87\n",
       "3.000000       83\n",
       "3.100000       69\n",
       "3.200000       64\n",
       "2.900000       45\n",
       "2.800000       42\n",
       "2.700000       25\n",
       "2.600000       25\n",
       "2.500000       21\n",
       "2.300000       20\n",
       "2.400000       19\n",
       "1.000000       16\n",
       "2.200000       14\n",
       "1.900000       13\n",
       "2.000000       12\n",
       "1.700000        8\n",
       "1.800000        8\n",
       "2.100000        8\n",
       "1.600000        4\n",
       "1.400000        3\n",
       "1.500000        3\n",
       "1.200000        1\n",
       "19.000000       1\n",
       "Name: count, dtype: int64"
      ]
     },
     "execution_count": 62,
     "metadata": {},
     "output_type": "execute_result"
    }
   ],
   "source": [
    "df['Rating'].value_counts()"
   ]
  },
  {
   "cell_type": "code",
   "execution_count": 63,
   "id": "edbb5690-9497-40dc-8faf-95ca6588912f",
   "metadata": {},
   "outputs": [
    {
     "data": {
      "text/html": [
       "<div>\n",
       "<style scoped>\n",
       "    .dataframe tbody tr th:only-of-type {\n",
       "        vertical-align: middle;\n",
       "    }\n",
       "\n",
       "    .dataframe tbody tr th {\n",
       "        vertical-align: top;\n",
       "    }\n",
       "\n",
       "    .dataframe thead th {\n",
       "        text-align: right;\n",
       "    }\n",
       "</style>\n",
       "<table border=\"1\" class=\"dataframe\">\n",
       "  <thead>\n",
       "    <tr style=\"text-align: right;\">\n",
       "      <th></th>\n",
       "      <th>App</th>\n",
       "      <th>Category</th>\n",
       "      <th>Rating</th>\n",
       "      <th>Reviews</th>\n",
       "      <th>Size</th>\n",
       "      <th>Installs</th>\n",
       "      <th>Type</th>\n",
       "      <th>Price</th>\n",
       "      <th>Content Rating</th>\n",
       "      <th>Genres</th>\n",
       "      <th>Last Updated</th>\n",
       "      <th>Current Ver</th>\n",
       "      <th>Android Ver</th>\n",
       "    </tr>\n",
       "  </thead>\n",
       "  <tbody>\n",
       "    <tr>\n",
       "      <th>10472</th>\n",
       "      <td>Life Made WI-Fi Touchscreen Photo Frame</td>\n",
       "      <td>1.9</td>\n",
       "      <td>19.0</td>\n",
       "      <td>3.0M</td>\n",
       "      <td>1,000+</td>\n",
       "      <td>Free</td>\n",
       "      <td>0</td>\n",
       "      <td>Everyone</td>\n",
       "      <td>NaN</td>\n",
       "      <td>February 11, 2018</td>\n",
       "      <td>1.0.19</td>\n",
       "      <td>4.0 and up</td>\n",
       "      <td>NaN</td>\n",
       "    </tr>\n",
       "  </tbody>\n",
       "</table>\n",
       "</div>"
      ],
      "text/plain": [
       "                                           App Category  Rating Reviews  \\\n",
       "10472  Life Made WI-Fi Touchscreen Photo Frame      1.9    19.0    3.0M   \n",
       "\n",
       "         Size Installs Type     Price Content Rating             Genres  \\\n",
       "10472  1,000+     Free    0  Everyone            NaN  February 11, 2018   \n",
       "\n",
       "      Last Updated Current Ver Android Ver  \n",
       "10472       1.0.19  4.0 and up         NaN  "
      ]
     },
     "execution_count": 63,
     "metadata": {},
     "output_type": "execute_result"
    }
   ],
   "source": [
    "df[df['Rating'] == 19.0]"
   ]
  },
  {
   "cell_type": "markdown",
   "id": "f106116f-f5c6-461e-b2bc-d973b138f41d",
   "metadata": {},
   "source": [
    "Si tratta dell'app 'Life Made WI-Fi Touchscreen Photo Frame', come mostrato sopra. Ho deciso che cancellerò direttamente la riga piuttosto che aggiustare il valore del 'rating' per esempio inserendo una media 'Rating' al posto di '19.0'. Questo perchè questa riga contiente anche altri valori nulli, quindi la sua eliminazione non influirà nell'analisi del dataset. "
   ]
  },
  {
   "cell_type": "code",
   "execution_count": 64,
   "id": "be3a21a4-1959-4998-adc4-c10e583508f6",
   "metadata": {},
   "outputs": [],
   "source": [
    "df = df.drop(df[df['Rating'] == 19.0].index)"
   ]
  },
  {
   "cell_type": "code",
   "execution_count": 65,
   "id": "450ebdbd-62e6-4ef1-878c-f8c827a771a6",
   "metadata": {
    "scrolled": true
   },
   "outputs": [
    {
     "data": {
      "text/html": [
       "<div>\n",
       "<style scoped>\n",
       "    .dataframe tbody tr th:only-of-type {\n",
       "        vertical-align: middle;\n",
       "    }\n",
       "\n",
       "    .dataframe tbody tr th {\n",
       "        vertical-align: top;\n",
       "    }\n",
       "\n",
       "    .dataframe thead th {\n",
       "        text-align: right;\n",
       "    }\n",
       "</style>\n",
       "<table border=\"1\" class=\"dataframe\">\n",
       "  <thead>\n",
       "    <tr style=\"text-align: right;\">\n",
       "      <th></th>\n",
       "      <th>Rating</th>\n",
       "    </tr>\n",
       "  </thead>\n",
       "  <tbody>\n",
       "    <tr>\n",
       "      <th>count</th>\n",
       "      <td>10840.000000</td>\n",
       "    </tr>\n",
       "    <tr>\n",
       "      <th>mean</th>\n",
       "      <td>4.191972</td>\n",
       "    </tr>\n",
       "    <tr>\n",
       "      <th>std</th>\n",
       "      <td>0.478907</td>\n",
       "    </tr>\n",
       "    <tr>\n",
       "      <th>min</th>\n",
       "      <td>1.000000</td>\n",
       "    </tr>\n",
       "    <tr>\n",
       "      <th>25%</th>\n",
       "      <td>4.100000</td>\n",
       "    </tr>\n",
       "    <tr>\n",
       "      <th>50%</th>\n",
       "      <td>4.200000</td>\n",
       "    </tr>\n",
       "    <tr>\n",
       "      <th>75%</th>\n",
       "      <td>4.500000</td>\n",
       "    </tr>\n",
       "    <tr>\n",
       "      <th>max</th>\n",
       "      <td>5.000000</td>\n",
       "    </tr>\n",
       "  </tbody>\n",
       "</table>\n",
       "</div>"
      ],
      "text/plain": [
       "             Rating\n",
       "count  10840.000000\n",
       "mean       4.191972\n",
       "std        0.478907\n",
       "min        1.000000\n",
       "25%        4.100000\n",
       "50%        4.200000\n",
       "75%        4.500000\n",
       "max        5.000000"
      ]
     },
     "execution_count": 65,
     "metadata": {},
     "output_type": "execute_result"
    }
   ],
   "source": [
    "df.describe()"
   ]
  },
  {
   "cell_type": "markdown",
   "id": "dcc42f0c-77f1-4602-bbdf-4bc995efb77e",
   "metadata": {},
   "source": [
    "Il valore massimo risulta corretto. "
   ]
  },
  {
   "cell_type": "markdown",
   "id": "e3dc5db2-d215-4f73-9692-4cfc621b0a16",
   "metadata": {},
   "source": [
    "Controllo se nel dataset sono presenti duplicati e nel caso li rimuovo"
   ]
  },
  {
   "cell_type": "code",
   "execution_count": 66,
   "id": "5228e1bf-cf72-4858-9eaf-fc98df68d7ab",
   "metadata": {
    "scrolled": true
   },
   "outputs": [
    {
     "data": {
      "text/plain": [
       "483"
      ]
     },
     "execution_count": 66,
     "metadata": {},
     "output_type": "execute_result"
    }
   ],
   "source": [
    "df.duplicated().sum()"
   ]
  },
  {
   "cell_type": "code",
   "execution_count": 67,
   "id": "b8b315b6-bca3-4b00-8927-5294a35352d2",
   "metadata": {},
   "outputs": [
    {
     "data": {
      "text/plain": [
       "0"
      ]
     },
     "execution_count": 67,
     "metadata": {},
     "output_type": "execute_result"
    }
   ],
   "source": [
    "df = df.drop_duplicates()\n",
    "df.duplicated().sum()"
   ]
  },
  {
   "cell_type": "markdown",
   "id": "d32599dd-cf51-48e6-8364-7ddbdbb5214a",
   "metadata": {},
   "source": [
    "Preferisco convertire subito colonne numeriche da object a valori numerici e date così da facilitarne l'utilizzo successivamente"
   ]
  },
  {
   "cell_type": "code",
   "execution_count": 68,
   "id": "9e80f40f-6453-437b-b6e6-191c18bd0e1c",
   "metadata": {},
   "outputs": [],
   "source": [
    "df['Price'] = pd.to_numeric(df['Price'].str.replace('$', ''), errors='coerce')"
   ]
  },
  {
   "cell_type": "code",
   "execution_count": 69,
   "id": "09127e87-dc92-4d3a-a8a6-888ef03ffdfd",
   "metadata": {},
   "outputs": [],
   "source": [
    "df['Reviews'] = pd.to_numeric(df['Reviews'], errors='coerce')"
   ]
  },
  {
   "cell_type": "code",
   "execution_count": 70,
   "id": "3dc4f7e8-d1cb-4caf-8b91-eb3b2c7ee8b8",
   "metadata": {},
   "outputs": [],
   "source": [
    "df['Last Updated'] = pd.to_datetime(df['Last Updated'])"
   ]
  },
  {
   "cell_type": "code",
   "execution_count": 71,
   "id": "ff2d85b0-5942-46f1-af9d-b8c269834188",
   "metadata": {},
   "outputs": [
    {
     "name": "stdout",
     "output_type": "stream",
     "text": [
      "<class 'pandas.core.frame.DataFrame'>\n",
      "Index: 10357 entries, 0 to 10840\n",
      "Data columns (total 13 columns):\n",
      " #   Column          Non-Null Count  Dtype         \n",
      "---  ------          --------------  -----         \n",
      " 0   App             10357 non-null  object        \n",
      " 1   Category        10357 non-null  object        \n",
      " 2   Rating          10357 non-null  float64       \n",
      " 3   Reviews         10357 non-null  int64         \n",
      " 4   Size            10357 non-null  object        \n",
      " 5   Installs        10357 non-null  object        \n",
      " 6   Type            10356 non-null  object        \n",
      " 7   Price           10357 non-null  float64       \n",
      " 8   Content Rating  10357 non-null  object        \n",
      " 9   Genres          10357 non-null  object        \n",
      " 10  Last Updated    10357 non-null  datetime64[ns]\n",
      " 11  Current Ver     10349 non-null  object        \n",
      " 12  Android Ver     10355 non-null  object        \n",
      "dtypes: datetime64[ns](1), float64(2), int64(1), object(9)\n",
      "memory usage: 1.1+ MB\n"
     ]
    }
   ],
   "source": [
    "df.info()"
   ]
  },
  {
   "cell_type": "markdown",
   "id": "b7f613f3-4948-4106-a5c2-6ca0f142176e",
   "metadata": {},
   "source": [
    "<h2>Le app più scaricate</h2>"
   ]
  },
  {
   "cell_type": "markdown",
   "id": "07fd2eca-b83f-4801-83f6-e61bcbad88e2",
   "metadata": {},
   "source": [
    "Voglio considerare le applicazioni più scaricate e capire quali sono. "
   ]
  },
  {
   "cell_type": "code",
   "execution_count": 72,
   "id": "52d7c95a-2171-4a9e-8a26-acacd1f8a35e",
   "metadata": {
    "scrolled": true
   },
   "outputs": [
    {
     "data": {
      "text/plain": [
       "Installs\n",
       "1,000,000+        1488\n",
       "10,000,000+       1132\n",
       "100,000+          1129\n",
       "10,000+           1033\n",
       "1,000+             890\n",
       "100+               710\n",
       "5,000,000+         683\n",
       "500,000+           517\n",
       "50,000+            474\n",
       "5,000+             469\n",
       "10+                385\n",
       "100,000,000+       369\n",
       "500+               328\n",
       "50,000,000+        272\n",
       "50+                204\n",
       "5+                  82\n",
       "1+                  67\n",
       "500,000,000+        61\n",
       "1,000,000,000+      49\n",
       "0+                  14\n",
       "0                    1\n",
       "Name: count, dtype: int64"
      ]
     },
     "execution_count": 72,
     "metadata": {},
     "output_type": "execute_result"
    }
   ],
   "source": [
    "df['Installs'].value_counts()"
   ]
  },
  {
   "cell_type": "code",
   "execution_count": 73,
   "id": "3cba89af-1736-4194-9ab6-50e7942d02b9",
   "metadata": {},
   "outputs": [
    {
     "data": {
      "text/plain": [
       "<Axes: xlabel='Installs'>"
      ]
     },
     "execution_count": 73,
     "metadata": {},
     "output_type": "execute_result"
    },
    {
     "data": {
      "image/png": "[encoded data removed]",
      "text/plain": [
       "<Figure size 640x480 with 1 Axes>"
      ]
     },
     "metadata": {},
     "output_type": "display_data"
    }
   ],
   "source": [
    "df['Installs'].value_counts().plot(kind='bar', color='skyblue')"
   ]
  },
  {
   "cell_type": "code",
   "execution_count": 74,
   "id": "ed14763b-cc60-4c3d-9fbd-3b7770c3e74d",
   "metadata": {},
   "outputs": [
    {
     "data": {
      "text/html": [
       "<div>\n",
       "<style scoped>\n",
       "    .dataframe tbody tr th:only-of-type {\n",
       "        vertical-align: middle;\n",
       "    }\n",
       "\n",
       "    .dataframe tbody tr th {\n",
       "        vertical-align: top;\n",
       "    }\n",
       "\n",
       "    .dataframe thead th {\n",
       "        text-align: right;\n",
       "    }\n",
       "</style>\n",
       "<table border=\"1\" class=\"dataframe\">\n",
       "  <thead>\n",
       "    <tr style=\"text-align: right;\">\n",
       "      <th></th>\n",
       "      <th>App</th>\n",
       "      <th>Category</th>\n",
       "      <th>Rating</th>\n",
       "      <th>Reviews</th>\n",
       "      <th>Size</th>\n",
       "      <th>Installs</th>\n",
       "      <th>Type</th>\n",
       "      <th>Price</th>\n",
       "      <th>Content Rating</th>\n",
       "      <th>Genres</th>\n",
       "      <th>Last Updated</th>\n",
       "      <th>Current Ver</th>\n",
       "      <th>Android Ver</th>\n",
       "    </tr>\n",
       "  </thead>\n",
       "  <tbody>\n",
       "    <tr>\n",
       "      <th>1886</th>\n",
       "      <td>Temple Run 2</td>\n",
       "      <td>GAME</td>\n",
       "      <td>4.3</td>\n",
       "      <td>8119151</td>\n",
       "      <td>62M</td>\n",
       "      <td>500,000,000+</td>\n",
       "      <td>Free</td>\n",
       "      <td>0.0</td>\n",
       "      <td>Everyone</td>\n",
       "      <td>Action</td>\n",
       "      <td>2018-07-05</td>\n",
       "      <td>1.49.1</td>\n",
       "      <td>4.0 and up</td>\n",
       "    </tr>\n",
       "    <tr>\n",
       "      <th>3711</th>\n",
       "      <td>MX Player</td>\n",
       "      <td>VIDEO_PLAYERS</td>\n",
       "      <td>4.5</td>\n",
       "      <td>6474672</td>\n",
       "      <td>Varies with device</td>\n",
       "      <td>500,000,000+</td>\n",
       "      <td>Free</td>\n",
       "      <td>0.0</td>\n",
       "      <td>Everyone</td>\n",
       "      <td>Video Players &amp; Editors</td>\n",
       "      <td>2018-08-06</td>\n",
       "      <td>Varies with device</td>\n",
       "      <td>Varies with device</td>\n",
       "    </tr>\n",
       "    <tr>\n",
       "      <th>2603</th>\n",
       "      <td>Snapchat</td>\n",
       "      <td>SOCIAL</td>\n",
       "      <td>4.0</td>\n",
       "      <td>17014705</td>\n",
       "      <td>Varies with device</td>\n",
       "      <td>500,000,000+</td>\n",
       "      <td>Free</td>\n",
       "      <td>0.0</td>\n",
       "      <td>Teen</td>\n",
       "      <td>Social</td>\n",
       "      <td>2018-07-30</td>\n",
       "      <td>Varies with device</td>\n",
       "      <td>Varies with device</td>\n",
       "    </tr>\n",
       "    <tr>\n",
       "      <th>1920</th>\n",
       "      <td>Temple Run 2</td>\n",
       "      <td>GAME</td>\n",
       "      <td>4.3</td>\n",
       "      <td>8119154</td>\n",
       "      <td>62M</td>\n",
       "      <td>500,000,000+</td>\n",
       "      <td>Free</td>\n",
       "      <td>0.0</td>\n",
       "      <td>Everyone</td>\n",
       "      <td>Action</td>\n",
       "      <td>2018-07-05</td>\n",
       "      <td>1.49.1</td>\n",
       "      <td>4.0 and up</td>\n",
       "    </tr>\n",
       "    <tr>\n",
       "      <th>4566</th>\n",
       "      <td>SHAREit - Transfer &amp; Share</td>\n",
       "      <td>TOOLS</td>\n",
       "      <td>4.6</td>\n",
       "      <td>7775146</td>\n",
       "      <td>17M</td>\n",
       "      <td>500,000,000+</td>\n",
       "      <td>Free</td>\n",
       "      <td>0.0</td>\n",
       "      <td>Everyone</td>\n",
       "      <td>Tools</td>\n",
       "      <td>2018-07-30</td>\n",
       "      <td>4.5.28_ww</td>\n",
       "      <td>4.1 and up</td>\n",
       "    </tr>\n",
       "    <tr>\n",
       "      <th>1729</th>\n",
       "      <td>Temple Run 2</td>\n",
       "      <td>GAME</td>\n",
       "      <td>4.3</td>\n",
       "      <td>8118937</td>\n",
       "      <td>62M</td>\n",
       "      <td>500,000,000+</td>\n",
       "      <td>Free</td>\n",
       "      <td>0.0</td>\n",
       "      <td>Everyone</td>\n",
       "      <td>Action</td>\n",
       "      <td>2018-07-05</td>\n",
       "      <td>1.49.1</td>\n",
       "      <td>4.0 and up</td>\n",
       "    </tr>\n",
       "    <tr>\n",
       "      <th>1722</th>\n",
       "      <td>My Talking Tom</td>\n",
       "      <td>GAME</td>\n",
       "      <td>4.5</td>\n",
       "      <td>14891223</td>\n",
       "      <td>Varies with device</td>\n",
       "      <td>500,000,000+</td>\n",
       "      <td>Free</td>\n",
       "      <td>0.0</td>\n",
       "      <td>Everyone</td>\n",
       "      <td>Casual</td>\n",
       "      <td>2018-07-19</td>\n",
       "      <td>4.8.0.132</td>\n",
       "      <td>4.1 and up</td>\n",
       "    </tr>\n",
       "    <tr>\n",
       "      <th>467</th>\n",
       "      <td>Viber Messenger</td>\n",
       "      <td>COMMUNICATION</td>\n",
       "      <td>4.3</td>\n",
       "      <td>11335255</td>\n",
       "      <td>Varies with device</td>\n",
       "      <td>500,000,000+</td>\n",
       "      <td>Free</td>\n",
       "      <td>0.0</td>\n",
       "      <td>Everyone</td>\n",
       "      <td>Communication</td>\n",
       "      <td>2018-07-18</td>\n",
       "      <td>Varies with device</td>\n",
       "      <td>Varies with device</td>\n",
       "    </tr>\n",
       "    <tr>\n",
       "      <th>7536</th>\n",
       "      <td>Security Master - Antivirus, VPN, AppLock, Boo...</td>\n",
       "      <td>TOOLS</td>\n",
       "      <td>4.7</td>\n",
       "      <td>24900999</td>\n",
       "      <td>Varies with device</td>\n",
       "      <td>500,000,000+</td>\n",
       "      <td>Free</td>\n",
       "      <td>0.0</td>\n",
       "      <td>Everyone</td>\n",
       "      <td>Tools</td>\n",
       "      <td>2018-08-04</td>\n",
       "      <td>4.6.6</td>\n",
       "      <td>Varies with device</td>\n",
       "    </tr>\n",
       "    <tr>\n",
       "      <th>3755</th>\n",
       "      <td>Flipboard: News For Our Time</td>\n",
       "      <td>NEWS_AND_MAGAZINES</td>\n",
       "      <td>4.4</td>\n",
       "      <td>1284017</td>\n",
       "      <td>Varies with device</td>\n",
       "      <td>500,000,000+</td>\n",
       "      <td>Free</td>\n",
       "      <td>0.0</td>\n",
       "      <td>Everyone 10+</td>\n",
       "      <td>News &amp; Magazines</td>\n",
       "      <td>2018-08-03</td>\n",
       "      <td>Varies with device</td>\n",
       "      <td>Varies with device</td>\n",
       "    </tr>\n",
       "  </tbody>\n",
       "</table>\n",
       "</div>"
      ],
      "text/plain": [
       "                                                    App            Category  \\\n",
       "1886                                       Temple Run 2                GAME   \n",
       "3711                                          MX Player       VIDEO_PLAYERS   \n",
       "2603                                           Snapchat              SOCIAL   \n",
       "1920                                       Temple Run 2                GAME   \n",
       "4566                         SHAREit - Transfer & Share               TOOLS   \n",
       "1729                                       Temple Run 2                GAME   \n",
       "1722                                     My Talking Tom                GAME   \n",
       "467                                     Viber Messenger       COMMUNICATION   \n",
       "7536  Security Master - Antivirus, VPN, AppLock, Boo...               TOOLS   \n",
       "3755                       Flipboard: News For Our Time  NEWS_AND_MAGAZINES   \n",
       "\n",
       "      Rating   Reviews                Size      Installs  Type  Price  \\\n",
       "1886     4.3   8119151                 62M  500,000,000+  Free    0.0   \n",
       "3711     4.5   6474672  Varies with device  500,000,000+  Free    0.0   \n",
       "2603     4.0  17014705  Varies with device  500,000,000+  Free    0.0   \n",
       "1920     4.3   8119154                 62M  500,000,000+  Free    0.0   \n",
       "4566     4.6   7775146                 17M  500,000,000+  Free    0.0   \n",
       "1729     4.3   8118937                 62M  500,000,000+  Free    0.0   \n",
       "1722     4.5  14891223  Varies with device  500,000,000+  Free    0.0   \n",
       "467      4.3  11335255  Varies with device  500,000,000+  Free    0.0   \n",
       "7536     4.7  24900999  Varies with device  500,000,000+  Free    0.0   \n",
       "3755     4.4   1284017  Varies with device  500,000,000+  Free    0.0   \n",
       "\n",
       "     Content Rating                   Genres Last Updated         Current Ver  \\\n",
       "1886       Everyone                   Action   2018-07-05              1.49.1   \n",
       "3711       Everyone  Video Players & Editors   2018-08-06  Varies with device   \n",
       "2603           Teen                   Social   2018-07-30  Varies with device   \n",
       "1920       Everyone                   Action   2018-07-05              1.49.1   \n",
       "4566       Everyone                    Tools   2018-07-30           4.5.28_ww   \n",
       "1729       Everyone                   Action   2018-07-05              1.49.1   \n",
       "1722       Everyone                   Casual   2018-07-19           4.8.0.132   \n",
       "467        Everyone            Communication   2018-07-18  Varies with device   \n",
       "7536       Everyone                    Tools   2018-08-04               4.6.6   \n",
       "3755   Everyone 10+         News & Magazines   2018-08-03  Varies with device   \n",
       "\n",
       "             Android Ver  \n",
       "1886          4.0 and up  \n",
       "3711  Varies with device  \n",
       "2603  Varies with device  \n",
       "1920          4.0 and up  \n",
       "4566          4.1 and up  \n",
       "1729          4.0 and up  \n",
       "1722          4.1 and up  \n",
       "467   Varies with device  \n",
       "7536  Varies with device  \n",
       "3755  Varies with device  "
      ]
     },
     "execution_count": 74,
     "metadata": {},
     "output_type": "execute_result"
    }
   ],
   "source": [
    "df.sort_values(['Installs'], ascending = False).head(10)"
   ]
  },
  {
   "cell_type": "code",
   "execution_count": 75,
   "id": "097cd93e-e33f-4309-a4fc-3ef46fca2c9b",
   "metadata": {},
   "outputs": [
    {
     "data": {
      "image/png": "[encoded data removed]",
      "text/plain": [
       "<Figure size 1200x600 with 1 Axes>"
      ]
     },
     "metadata": {},
     "output_type": "display_data"
    }
   ],
   "source": [
    "category_counts = df.groupby('Category')['Installs'].count().sort_values(ascending=False)\n",
    "\n",
    "plt.figure(figsize=(12, 6))\n",
    "category_counts.plot(kind='bar', color = 'skyblue')\n",
    "plt.title('Numero di installazioni per categoria')\n",
    "plt.xlabel('Categoria')\n",
    "plt.ylabel('Numero di installazioni')\n",
    "plt.show()"
   ]
  },
  {
   "cell_type": "code",
   "execution_count": 80,
   "id": "3f08ec47-c9cd-4540-a8e2-cfd0890466f8",
   "metadata": {
    "scrolled": true
   },
   "outputs": [
    {
     "data": {
      "text/plain": [
       "Category\n",
       "FAMILY                 1943\n",
       "GAME                   1121\n",
       "TOOLS                   843\n",
       "BUSINESS                427\n",
       "MEDICAL                 408\n",
       "PRODUCTIVITY            407\n",
       "PERSONALIZATION         388\n",
       "LIFESTYLE               373\n",
       "COMMUNICATION           366\n",
       "FINANCE                 360\n",
       "SPORTS                  351\n",
       "PHOTOGRAPHY             322\n",
       "HEALTH_AND_FITNESS      306\n",
       "SOCIAL                  280\n",
       "NEWS_AND_MAGAZINES      264\n",
       "TRAVEL_AND_LOCAL        237\n",
       "BOOKS_AND_REFERENCE     230\n",
       "SHOPPING                224\n",
       "DATING                  196\n",
       "VIDEO_PLAYERS           175\n",
       "MAPS_AND_NAVIGATION     137\n",
       "EDUCATION               130\n",
       "FOOD_AND_DRINK          124\n",
       "ENTERTAINMENT           111\n",
       "AUTO_AND_VEHICLES        85\n",
       "LIBRARIES_AND_DEMO       85\n",
       "WEATHER                  82\n",
       "HOUSE_AND_HOME           80\n",
       "ART_AND_DESIGN           65\n",
       "EVENTS                   64\n",
       "PARENTING                60\n",
       "COMICS                   60\n",
       "BEAUTY                   53\n",
       "Name: count, dtype: int64"
      ]
     },
     "execution_count": 80,
     "metadata": {},
     "output_type": "execute_result"
    }
   ],
   "source": [
    "df['Category'].value_counts()"
   ]
  },
  {
   "cell_type": "markdown",
   "id": "f63de677-12e6-4be4-8d09-42513b24d03b",
   "metadata": {},
   "source": [
    "*Osserviamo che le categorie FAMILY, GAME e TOOLS siano nettamente quelle più installate*"
   ]
  },
  {
   "cell_type": "markdown",
   "id": "3a840f3f-fe19-4175-a90f-50eef28f9a70",
   "metadata": {},
   "source": [
    "Analizziamo più da vicino le top 3 'Category'"
   ]
  },
  {
   "cell_type": "code",
   "execution_count": 81,
   "id": "0bc0c894-8fc8-462e-a24f-e9ebb93853b1",
   "metadata": {
    "scrolled": true
   },
   "outputs": [],
   "source": [
    "top3 = ['FAMILY','GAME','TOOLS']\n",
    "df_top3 = df[df['Category'].isin(top3)].copy()"
   ]
  },
  {
   "cell_type": "markdown",
   "id": "acbc65d3-56bd-40f0-852a-de87a1e6db3e",
   "metadata": {},
   "source": [
    "Vediamo quale sono le più installate"
   ]
  },
  {
   "cell_type": "code",
   "execution_count": 82,
   "id": "a5ee1abb-d40d-490b-a6ac-35c12cc183f3",
   "metadata": {},
   "outputs": [
    {
     "data": {
      "text/html": [
       "<div>\n",
       "<style scoped>\n",
       "    .dataframe tbody tr th:only-of-type {\n",
       "        vertical-align: middle;\n",
       "    }\n",
       "\n",
       "    .dataframe tbody tr th {\n",
       "        vertical-align: top;\n",
       "    }\n",
       "\n",
       "    .dataframe thead th {\n",
       "        text-align: right;\n",
       "    }\n",
       "</style>\n",
       "<table border=\"1\" class=\"dataframe\">\n",
       "  <thead>\n",
       "    <tr style=\"text-align: right;\">\n",
       "      <th></th>\n",
       "      <th>App</th>\n",
       "      <th>Category</th>\n",
       "      <th>Rating</th>\n",
       "      <th>Reviews</th>\n",
       "      <th>Size</th>\n",
       "      <th>Installs</th>\n",
       "      <th>Type</th>\n",
       "      <th>Price</th>\n",
       "      <th>Content Rating</th>\n",
       "      <th>Genres</th>\n",
       "      <th>Last Updated</th>\n",
       "      <th>Current Ver</th>\n",
       "      <th>Android Ver</th>\n",
       "      <th>Last Year Updated</th>\n",
       "    </tr>\n",
       "  </thead>\n",
       "  <tbody>\n",
       "    <tr>\n",
       "      <th>1729</th>\n",
       "      <td>Temple Run 2</td>\n",
       "      <td>GAME</td>\n",
       "      <td>4.3</td>\n",
       "      <td>8118937</td>\n",
       "      <td>62M</td>\n",
       "      <td>500,000,000+</td>\n",
       "      <td>Free</td>\n",
       "      <td>0.0</td>\n",
       "      <td>Everyone</td>\n",
       "      <td>Action</td>\n",
       "      <td>2018-07-05</td>\n",
       "      <td>1.49.1</td>\n",
       "      <td>4.0 and up</td>\n",
       "      <td>2018</td>\n",
       "    </tr>\n",
       "    <tr>\n",
       "      <th>4147</th>\n",
       "      <td>Gboard - the Google Keyboard</td>\n",
       "      <td>TOOLS</td>\n",
       "      <td>4.2</td>\n",
       "      <td>1855262</td>\n",
       "      <td>Varies with device</td>\n",
       "      <td>500,000,000+</td>\n",
       "      <td>Free</td>\n",
       "      <td>0.0</td>\n",
       "      <td>Everyone</td>\n",
       "      <td>Tools</td>\n",
       "      <td>2018-07-31</td>\n",
       "      <td>Varies with device</td>\n",
       "      <td>Varies with device</td>\n",
       "      <td>2018</td>\n",
       "    </tr>\n",
       "    <tr>\n",
       "      <th>3255</th>\n",
       "      <td>SHAREit - Transfer &amp; Share</td>\n",
       "      <td>TOOLS</td>\n",
       "      <td>4.6</td>\n",
       "      <td>7790693</td>\n",
       "      <td>17M</td>\n",
       "      <td>500,000,000+</td>\n",
       "      <td>Free</td>\n",
       "      <td>0.0</td>\n",
       "      <td>Everyone</td>\n",
       "      <td>Tools</td>\n",
       "      <td>2018-07-30</td>\n",
       "      <td>4.5.28_ww</td>\n",
       "      <td>4.1 and up</td>\n",
       "      <td>2018</td>\n",
       "    </tr>\n",
       "    <tr>\n",
       "      <th>3265</th>\n",
       "      <td>Gboard - the Google Keyboard</td>\n",
       "      <td>TOOLS</td>\n",
       "      <td>4.2</td>\n",
       "      <td>1859115</td>\n",
       "      <td>Varies with device</td>\n",
       "      <td>500,000,000+</td>\n",
       "      <td>Free</td>\n",
       "      <td>0.0</td>\n",
       "      <td>Everyone</td>\n",
       "      <td>Tools</td>\n",
       "      <td>2018-07-31</td>\n",
       "      <td>Varies with device</td>\n",
       "      <td>Varies with device</td>\n",
       "      <td>2018</td>\n",
       "    </tr>\n",
       "    <tr>\n",
       "      <th>3907</th>\n",
       "      <td>Google Translate</td>\n",
       "      <td>TOOLS</td>\n",
       "      <td>4.4</td>\n",
       "      <td>5741684</td>\n",
       "      <td>Varies with device</td>\n",
       "      <td>500,000,000+</td>\n",
       "      <td>Free</td>\n",
       "      <td>0.0</td>\n",
       "      <td>Everyone</td>\n",
       "      <td>Tools</td>\n",
       "      <td>2018-08-04</td>\n",
       "      <td>Varies with device</td>\n",
       "      <td>Varies with device</td>\n",
       "      <td>2018</td>\n",
       "    </tr>\n",
       "    <tr>\n",
       "      <th>1908</th>\n",
       "      <td>My Talking Tom</td>\n",
       "      <td>GAME</td>\n",
       "      <td>4.5</td>\n",
       "      <td>14892469</td>\n",
       "      <td>Varies with device</td>\n",
       "      <td>500,000,000+</td>\n",
       "      <td>Free</td>\n",
       "      <td>0.0</td>\n",
       "      <td>Everyone</td>\n",
       "      <td>Casual</td>\n",
       "      <td>2018-07-19</td>\n",
       "      <td>4.8.0.132</td>\n",
       "      <td>4.1 and up</td>\n",
       "      <td>2018</td>\n",
       "    </tr>\n",
       "    <tr>\n",
       "      <th>1702</th>\n",
       "      <td>Pou</td>\n",
       "      <td>GAME</td>\n",
       "      <td>4.3</td>\n",
       "      <td>10485334</td>\n",
       "      <td>24M</td>\n",
       "      <td>500,000,000+</td>\n",
       "      <td>Free</td>\n",
       "      <td>0.0</td>\n",
       "      <td>Everyone</td>\n",
       "      <td>Casual</td>\n",
       "      <td>2018-05-25</td>\n",
       "      <td>1.4.77</td>\n",
       "      <td>4.0 and up</td>\n",
       "      <td>2018</td>\n",
       "    </tr>\n",
       "    <tr>\n",
       "      <th>1722</th>\n",
       "      <td>My Talking Tom</td>\n",
       "      <td>GAME</td>\n",
       "      <td>4.5</td>\n",
       "      <td>14891223</td>\n",
       "      <td>Varies with device</td>\n",
       "      <td>500,000,000+</td>\n",
       "      <td>Free</td>\n",
       "      <td>0.0</td>\n",
       "      <td>Everyone</td>\n",
       "      <td>Casual</td>\n",
       "      <td>2018-07-19</td>\n",
       "      <td>4.8.0.132</td>\n",
       "      <td>4.1 and up</td>\n",
       "      <td>2018</td>\n",
       "    </tr>\n",
       "    <tr>\n",
       "      <th>3235</th>\n",
       "      <td>Google Translate</td>\n",
       "      <td>TOOLS</td>\n",
       "      <td>4.4</td>\n",
       "      <td>5745093</td>\n",
       "      <td>Varies with device</td>\n",
       "      <td>500,000,000+</td>\n",
       "      <td>Free</td>\n",
       "      <td>0.0</td>\n",
       "      <td>Everyone</td>\n",
       "      <td>Tools</td>\n",
       "      <td>2018-08-04</td>\n",
       "      <td>Varies with device</td>\n",
       "      <td>Varies with device</td>\n",
       "      <td>2018</td>\n",
       "    </tr>\n",
       "    <tr>\n",
       "      <th>1842</th>\n",
       "      <td>Candy Crush Saga</td>\n",
       "      <td>GAME</td>\n",
       "      <td>4.4</td>\n",
       "      <td>22429716</td>\n",
       "      <td>74M</td>\n",
       "      <td>500,000,000+</td>\n",
       "      <td>Free</td>\n",
       "      <td>0.0</td>\n",
       "      <td>Everyone</td>\n",
       "      <td>Casual</td>\n",
       "      <td>2018-07-05</td>\n",
       "      <td>1.129.0.2</td>\n",
       "      <td>4.1 and up</td>\n",
       "      <td>2018</td>\n",
       "    </tr>\n",
       "  </tbody>\n",
       "</table>\n",
       "</div>"
      ],
      "text/plain": [
       "                               App Category  Rating   Reviews  \\\n",
       "1729                  Temple Run 2     GAME     4.3   8118937   \n",
       "4147  Gboard - the Google Keyboard    TOOLS     4.2   1855262   \n",
       "3255    SHAREit - Transfer & Share    TOOLS     4.6   7790693   \n",
       "3265  Gboard - the Google Keyboard    TOOLS     4.2   1859115   \n",
       "3907              Google Translate    TOOLS     4.4   5741684   \n",
       "1908                My Talking Tom     GAME     4.5  14892469   \n",
       "1702                           Pou     GAME     4.3  10485334   \n",
       "1722                My Talking Tom     GAME     4.5  14891223   \n",
       "3235              Google Translate    TOOLS     4.4   5745093   \n",
       "1842              Candy Crush Saga     GAME     4.4  22429716   \n",
       "\n",
       "                    Size      Installs  Type  Price Content Rating  Genres  \\\n",
       "1729                 62M  500,000,000+  Free    0.0       Everyone  Action   \n",
       "4147  Varies with device  500,000,000+  Free    0.0       Everyone   Tools   \n",
       "3255                 17M  500,000,000+  Free    0.0       Everyone   Tools   \n",
       "3265  Varies with device  500,000,000+  Free    0.0       Everyone   Tools   \n",
       "3907  Varies with device  500,000,000+  Free    0.0       Everyone   Tools   \n",
       "1908  Varies with device  500,000,000+  Free    0.0       Everyone  Casual   \n",
       "1702                 24M  500,000,000+  Free    0.0       Everyone  Casual   \n",
       "1722  Varies with device  500,000,000+  Free    0.0       Everyone  Casual   \n",
       "3235  Varies with device  500,000,000+  Free    0.0       Everyone   Tools   \n",
       "1842                 74M  500,000,000+  Free    0.0       Everyone  Casual   \n",
       "\n",
       "     Last Updated         Current Ver         Android Ver  Last Year Updated  \n",
       "1729   2018-07-05              1.49.1          4.0 and up               2018  \n",
       "4147   2018-07-31  Varies with device  Varies with device               2018  \n",
       "3255   2018-07-30           4.5.28_ww          4.1 and up               2018  \n",
       "3265   2018-07-31  Varies with device  Varies with device               2018  \n",
       "3907   2018-08-04  Varies with device  Varies with device               2018  \n",
       "1908   2018-07-19           4.8.0.132          4.1 and up               2018  \n",
       "1702   2018-05-25              1.4.77          4.0 and up               2018  \n",
       "1722   2018-07-19           4.8.0.132          4.1 and up               2018  \n",
       "3235   2018-08-04  Varies with device  Varies with device               2018  \n",
       "1842   2018-07-05           1.129.0.2          4.1 and up               2018  "
      ]
     },
     "execution_count": 82,
     "metadata": {},
     "output_type": "execute_result"
    }
   ],
   "source": [
    "df_top3.sort_values('Installs', ascending = False).head(10)"
   ]
  },
  {
   "cell_type": "code",
   "execution_count": 83,
   "id": "f30e7e6a-cf00-4c62-9e25-270c2642f79b",
   "metadata": {},
   "outputs": [
    {
     "data": {
      "text/plain": [
       "TOOLS_Tools                     842\n",
       "FAMILY_Entertainment            487\n",
       "FAMILY_Education                420\n",
       "GAME_Action                     356\n",
       "GAME_Arcade                     218\n",
       "FAMILY_Simulation               189\n",
       "FAMILY_Casual                   148\n",
       "FAMILY_Puzzle                    98\n",
       "GAME_Racing                      98\n",
       "FAMILY_Role Playing              93\n",
       "FAMILY_Strategy                  83\n",
       "GAME_Adventure                   75\n",
       "GAME_Card                        48\n",
       "GAME_Board                       44\n",
       "GAME_Casual                      43\n",
       "GAME_Casino                      39\n",
       "GAME_Puzzle                      38\n",
       "FAMILY_Educational;Education     38\n",
       "GAME_Trivia                      38\n",
       "FAMILY_Educational               37\n",
       "Name: count, dtype: int64"
      ]
     },
     "execution_count": 83,
     "metadata": {},
     "output_type": "execute_result"
    }
   ],
   "source": [
    "combined_categories_genres = df['Category'] + '_' + df_top3['Genres']\n",
    "\n",
    "occurrences_count = combined_categories_genres.value_counts()\n",
    "\n",
    "occurrences_count.head(20)"
   ]
  },
  {
   "cell_type": "markdown",
   "id": "e404bc0a-3741-41e7-bc2e-881cdd084a0d",
   "metadata": {},
   "source": [
    "Questo raggruppamento è particolarmente interessante perchè ci indica quali sono i generi per categoria più scaricati. \n",
    "La variabile 'TOOLS_Tools' ci raggruppa tutto ciò che appertiene al genere tools, non avendo questa dei sottogeneri. \n",
    "Mentre le categorie FAMILY e GAMES, avendo diversi sottogeneri, vengono diversificate maggiormente.\n"
   ]
  },
  {
   "cell_type": "markdown",
   "id": "658ce411-b355-444d-9e81-ce44565d696a",
   "metadata": {},
   "source": [
    "*Le app di categoria TOOLS, FAMILY ( intrattenimento ed educazione) e GAMES( action ed arcade) sono nettamente quelle più scaricate*"
   ]
  },
  {
   "cell_type": "markdown",
   "id": "fe173702-8420-42b4-85f9-45244fb576ef",
   "metadata": {},
   "source": [
    "<h2>Pubblico di riferimento</h2>"
   ]
  },
  {
   "cell_type": "code",
   "execution_count": 84,
   "id": "eb3886c6-fe64-4717-8989-d32dc326a0ad",
   "metadata": {
    "scrolled": true
   },
   "outputs": [
    {
     "data": {
      "text/plain": [
       "(array([0, 1, 2, 3, 4, 5]),\n",
       " [Text(0, 0, 'Everyone'),\n",
       "  Text(1, 0, 'Teen'),\n",
       "  Text(2, 0, 'Mature 17+'),\n",
       "  Text(3, 0, 'Everyone 10+'),\n",
       "  Text(4, 0, 'Adults only 18+'),\n",
       "  Text(5, 0, 'Unrated')])"
      ]
     },
     "execution_count": 84,
     "metadata": {},
     "output_type": "execute_result"
    },
    {
     "data": {
      "image/png": "[encoded data removed]",
      "text/plain": [
       "<Figure size 640x480 with 1 Axes>"
      ]
     },
     "metadata": {},
     "output_type": "display_data"
    }
   ],
   "source": [
    "df['Content Rating'].value_counts().plot(kind='bar')\n",
    "plt.xticks(rotation=90)"
   ]
  },
  {
   "cell_type": "markdown",
   "id": "975bcd72-913c-4804-97bd-c71e7d2e5200",
   "metadata": {},
   "source": [
    "*Un bacino di utenza maggiore come EVERYONE risulta molto più interessante rispetto agli altri*"
   ]
  },
  {
   "cell_type": "markdown",
   "id": "7a4592b0-b9a2-402c-9a74-2dcec80c63fc",
   "metadata": {},
   "source": [
    "<h2>\"Sì ma quanto costa?\"</h2>"
   ]
  },
  {
   "cell_type": "code",
   "execution_count": 85,
   "id": "bf9703a4-1f9c-4e28-84e6-c613768a22c4",
   "metadata": {},
   "outputs": [
    {
     "data": {
      "text/plain": [
       "Price\n",
       "0.00      3559\n",
       "2.99        73\n",
       "0.99        68\n",
       "4.99        45\n",
       "1.99        40\n",
       "3.99        25\n",
       "1.49        17\n",
       "2.49        10\n",
       "9.99         7\n",
       "14.99        6\n",
       "6.99         6\n",
       "5.99         6\n",
       "4.49         4\n",
       "399.99       3\n",
       "12.99        2\n",
       "7.99         2\n",
       "3.49         2\n",
       "19.99        2\n",
       "2.50         1\n",
       "17.99        1\n",
       "13.99        1\n",
       "14.00        1\n",
       "1.00         1\n",
       "16.99        1\n",
       "19.40        1\n",
       "10.00        1\n",
       "25.99        1\n",
       "29.99        1\n",
       "39.99        1\n",
       "46.99        1\n",
       "389.99       1\n",
       "10.99        1\n",
       "1.04         1\n",
       "2.59         1\n",
       "8.99         1\n",
       "7.49         1\n",
       "1.20         1\n",
       "1.26         1\n",
       "1.59         1\n",
       "1.61         1\n",
       "4.77         1\n",
       "1.76         1\n",
       "1.97         1\n",
       "3.90         1\n",
       "3.28         1\n",
       "2.00         1\n",
       "2.95         1\n",
       "4.84         1\n",
       "Name: count, dtype: int64"
      ]
     },
     "execution_count": 85,
     "metadata": {},
     "output_type": "execute_result"
    }
   ],
   "source": [
    "df_top3.value_counts('Price')"
   ]
  },
  {
   "cell_type": "code",
   "execution_count": 86,
   "id": "1b744771-a678-439a-9b18-9974de986b49",
   "metadata": {
    "scrolled": true
   },
   "outputs": [
    {
     "data": {
      "image/png": "[encoded data removed]",
      "text/plain": [
       "<Figure size 1000x600 with 1 Axes>"
      ]
     },
     "metadata": {},
     "output_type": "display_data"
    }
   ],
   "source": [
    "paid_apps_df = df_top3[df_top3['Price'] >= 0]\n",
    "\n",
    "plt.figure(figsize=(10, 6))\n",
    "plt.hist(paid_apps_df['Price'], bins=30, edgecolor='black', color='orange')\n",
    "plt.title('Distribuzione dei prezzi delle App più scaricate')\n",
    "plt.xlabel('Prezzo')\n",
    "plt.ylabel('Frequenza')\n",
    "plt.show()"
   ]
  },
  {
   "cell_type": "code",
   "execution_count": 87,
   "id": "4c898b1a-db03-43df-94df-f25baeba6268",
   "metadata": {},
   "outputs": [
    {
     "data": {
      "image/png": "[encoded data removed]",
      "text/plain": [
       "<Figure size 640x480 with 1 Axes>"
      ]
     },
     "metadata": {},
     "output_type": "display_data"
    }
   ],
   "source": [
    "sns.countplot(x='Category', hue='Type', data=df_top3)\n",
    "plt.title('Type top 3 categorie')\n",
    "plt.xlabel('Category')\n",
    "plt.ylabel('Count')\n",
    "plt.legend(title='Categorie: Pagamento o gratuite')\n",
    "plt.xticks(rotation=90)\n",
    "plt.show()"
   ]
  },
  {
   "cell_type": "markdown",
   "id": "486e789b-9ab6-4ab9-b7d2-47dcf19b8bb9",
   "metadata": {},
   "source": [
    "*Appare evidente che il maggior numero di App scaricate siano gratuite.*"
   ]
  },
  {
   "cell_type": "markdown",
   "id": "2e134571-ead4-4250-b3e0-ef43733cfd49",
   "metadata": {},
   "source": [
    "<h2>Rating</h2>"
   ]
  },
  {
   "cell_type": "markdown",
   "id": "909118c2-d967-4813-aeea-32f7596003c7",
   "metadata": {},
   "source": [
    "Vorrei capire come sono distribuite le valutazioni ed identificare eventuali outliers."
   ]
  },
  {
   "cell_type": "code",
   "execution_count": 97,
   "id": "7e148b0e-3656-475c-907a-e4bf12ae18a6",
   "metadata": {},
   "outputs": [
    {
     "data": {
      "image/png": "[encoded data removed]",
      "text/plain": [
       "<Figure size 1000x600 with 1 Axes>"
      ]
     },
     "metadata": {},
     "output_type": "display_data"
    }
   ],
   "source": [
    "plt.figure(figsize=(10, 6))\n",
    "plt.hist(df['Rating'], bins=30, edgecolor='black', color='green')\n",
    "plt.title('Distribuzione delle valutazioni')\n",
    "plt.xlabel('Rating')\n",
    "plt.ylabel('Frequenza')\n",
    "plt.show()"
   ]
  },
  {
   "cell_type": "code",
   "execution_count": 89,
   "id": "e4fa21b5-2633-4683-97ab-e5c582757303",
   "metadata": {
    "scrolled": true
   },
   "outputs": [
    {
     "data": {
      "image/png": "[encoded data removed]",
      "text/plain": [
       "<Figure size 1000x600 with 1 Axes>"
      ]
     },
     "metadata": {},
     "output_type": "display_data"
    }
   ],
   "source": [
    "plt.figure(figsize=(10, 6))\n",
    "sns.boxplot(x=df['Rating'], color='skyblue')\n",
    "plt.title('Boxplot delle Valutazioni')\n",
    "plt.xlabel('Rating')\n",
    "plt.show()"
   ]
  },
  {
   "cell_type": "markdown",
   "id": "b85ed381-5646-46aa-b945-c4fa6b689dfc",
   "metadata": {},
   "source": [
    "Questo boxplot ci mostra come effettivamente ci siano diversi outliers \"al ribasso\". La mediana infatti si attesta circa su 4.2"
   ]
  },
  {
   "cell_type": "code",
   "execution_count": 90,
   "id": "175e4602-2404-4dde-beb2-cfed72d206cb",
   "metadata": {},
   "outputs": [
    {
     "data": {
      "text/plain": [
       "4.2"
      ]
     },
     "execution_count": 90,
     "metadata": {},
     "output_type": "execute_result"
    }
   ],
   "source": [
    "df['Rating'].median()"
   ]
  },
  {
   "cell_type": "code",
   "execution_count": 91,
   "id": "81ee2c30-5ecd-4d2a-85e5-f7af75809f01",
   "metadata": {
    "scrolled": true
   },
   "outputs": [
    {
     "name": "stdout",
     "output_type": "stream",
     "text": [
      "Il numero di applicazioni con rating superiore a 4.0 è : 7873\n"
     ]
    }
   ],
   "source": [
    "soglia_rating = 4.0\n",
    "\n",
    "applicazioni_con_rating_superiore = df[df['Rating'] > soglia_rating]\n",
    "\n",
    "print(f\"Il numero di applicazioni con rating superiore a {soglia_rating} è : {len(applicazioni_con_rating_superiore)}\")\n"
   ]
  },
  {
   "cell_type": "markdown",
   "id": "eaa819b7-2b9a-40b2-8884-55306424632b",
   "metadata": {},
   "source": [
    "<h2>Recensioni</h2>"
   ]
  },
  {
   "cell_type": "markdown",
   "id": "885646f6-e9b1-49bc-94cd-65d35b0a550c",
   "metadata": {},
   "source": [
    "Voglio confrontare il numero di installazioni con il numero di recensioni, tuttavia la colonna 'reviews'."
   ]
  },
  {
   "cell_type": "code",
   "execution_count": 92,
   "id": "90caf133-97a3-4cc1-896c-f5f1f70219d2",
   "metadata": {},
   "outputs": [
    {
     "data": {
      "text/plain": [
       "dtype('int64')"
      ]
     },
     "execution_count": 92,
     "metadata": {},
     "output_type": "execute_result"
    }
   ],
   "source": [
    "df['Reviews'].dtypes"
   ]
  },
  {
   "cell_type": "code",
   "execution_count": 93,
   "id": "3639ea8f-58f0-4c26-9d7c-8979d01157d0",
   "metadata": {
    "scrolled": true
   },
   "outputs": [
    {
     "data": {
      "text/plain": [
       "0.06836303106013991"
      ]
     },
     "execution_count": 93,
     "metadata": {},
     "output_type": "execute_result"
    }
   ],
   "source": [
    "correlation_reviews = df['Rating'].corr(df['Reviews'])\n",
    "correlation_reviews"
   ]
  },
  {
   "cell_type": "code",
   "execution_count": 94,
   "id": "58a276a9-f5cd-4c34-8a8f-ccce959b2939",
   "metadata": {},
   "outputs": [
    {
     "data": {
      "text/plain": [
       "(0.0, 82115112.39885415)"
      ]
     },
     "execution_count": 94,
     "metadata": {},
     "output_type": "execute_result"
    },
    {
     "data": {
      "image/png": "[encoded data removed]",
      "text/plain": [
       "<Figure size 640x480 with 1 Axes>"
      ]
     },
     "metadata": {},
     "output_type": "display_data"
    }
   ],
   "source": [
    "sns.regplot(x=\"Rating\", y=\"Reviews\", data=df)\n",
    "plt.ylim(0,)"
   ]
  },
  {
   "cell_type": "markdown",
   "id": "24678139-c1b9-49a5-8817-25e1990bedb7",
   "metadata": {},
   "source": [
    "Questo indice di correlazione di aggira intorno alle 0, quindi non vi è una correlazione lineare tra il tipo di valutazione e il numero delle recensioni delle App."
   ]
  },
  {
   "cell_type": "markdown",
   "id": "440e69d4-ceb1-4a5f-9405-faece97e563b",
   "metadata": {},
   "source": [
    "<h2>Aggiornamenti</h2>"
   ]
  },
  {
   "cell_type": "code",
   "execution_count": 95,
   "id": "702500e8-b399-4522-be81-56abc174f553",
   "metadata": {},
   "outputs": [
    {
     "data": {
      "image/png": "[encoded data removed]",
      "text/plain": [
       "<Figure size 1000x600 with 1 Axes>"
      ]
     },
     "metadata": {},
     "output_type": "display_data"
    }
   ],
   "source": [
    "df['Last Year Updated'] = df['Last Updated'].dt.year\n",
    "\n",
    "plt.figure(figsize=(10, 6))\n",
    "plt.hist(df['Last Year Updated'], bins=30, edgecolor='black', color='orange')\n",
    "plt.title('Distribuzione della Data dell\\'Ultimo Aggiornamento delle App')\n",
    "plt.xlabel('Data dell\\'Ultimo Aggiornamento')\n",
    "plt.ylabel('Frequenza')\n",
    "plt.xticks(rotation=45)  \n",
    "plt.show()"
   ]
  },
  {
   "cell_type": "markdown",
   "id": "97285660-f361-49a2-8b6a-bd77bdbd8f27",
   "metadata": {},
   "source": [
    "*La maggior parte degli aggiornamenti sono stati fatti nel 2018*"
   ]
  },
  {
   "cell_type": "markdown",
   "id": "9492c4bd-358e-4310-9d5b-cd23ba6e4d68",
   "metadata": {},
   "source": [
    "<h2>Cosa portarsi a casa</h2>"
   ]
  },
  {
   "cell_type": "markdown",
   "id": "4516e0df-a690-4a23-9064-bf286c354555",
   "metadata": {},
   "source": [
    "1- La maggior parte delle applicazioni scaricate si sono indirizzate ad un uso aperto a tutta la famiglia e al gaming, quindi al grande pubblico;\n",
    "2- La maggior parte delle valutazioni sono positive, indice di un generale apprezzamento del pubblico per le app;\n",
    "3- Vi è un enorme mole di download, questo indica un grande bacino di utenza in espansione;\n",
    "4- E' preferibile rendere gratuita l'applicazione, magari dedicandosi maggiormente all'inserimento di annunci interni o offrendo diversi piani di pagamento per l'utilizzo;\n",
    "5- Considerata la mole di aggiornamenti ricevuti nell'anno 2018, questo indica un costante lavoro da parte degli sviluppatori e l'importanza di non lasciare a sè stessa l'app nel tempo e garantirne quindi un utilizzo prolungato;\n",
    "6- Sarebbe interessante anche analizzare il tempo che queste app sono state installate, quando e perchè sono state disinstallate, così da identificare il profilo di utenza che utilizza per minor tempo le app. Questo ci permetterebbe di intervenire per tempo, magari con servizi personalizzati volti a limitare l'abbandono."
   ]
  },
  {
   "cell_type": "code",
   "execution_count": null,
   "id": "f349c47f-f7e4-489a-b4fe-785826b8d222",
   "metadata": {},
   "outputs": [],
   "source": []
  }
 ],
 "metadata": {
  "kernelspec": {
   "display_name": "Python 3 (ipykernel)",
   "language": "python",
   "name": "python3"
  },
  "language_info": {
   "codemirror_mode": {
    "name": "ipython",
    "version": 3
   },
   "file_extension": ".py",
   "mimetype": "text/x-python",
   "name": "python",
   "nbconvert_exporter": "python",
   "pygments_lexer": "ipython3",
   "version": "3.11.5"
  }
 },
 "nbformat": 4,
 "nbformat_minor": 5
}
