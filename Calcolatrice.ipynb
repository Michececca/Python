{
 "cells": [
  {
   "cell_type": "markdown",
   "id": "2c73a585",
   "metadata": {},
   "source": [
    "<h1>Calcolatrice</h1>"
   ]
  },
  {
   "cell_type": "code",
   "execution_count": 1,
   "id": "da8bf4c3",
   "metadata": {},
   "outputs": [],
   "source": [
    "def add(x,y):\n",
    "    return  x + y\n",
    "\n",
    "def subtract(x,y):\n",
    "    return  x - y\n",
    "\n",
    "def multiply(x,y):\n",
    "    return  x * y\n",
    "\n",
    "def divide(x,y):\n",
    "    return  x / y\n",
    "\n",
    "\n"
   ]
  },
  {
   "cell_type": "code",
   "execution_count": null,
   "id": "994b627b",
   "metadata": {},
   "outputs": [],
   "source": [
    "choice = input('Enter Choice (A,S,M,D): ')\n",
    "\n",
    "num1 = float(input('Enter first number: '))\n",
    "\n",
    "num2 = float(input('Enter second number: '))"
   ]
  },
  {
   "cell_type": "code",
   "execution_count": null,
   "id": "e7ebd04e",
   "metadata": {},
   "outputs": [],
   "source": [
    "print(\"Enter 'A' for Addition.\")\n",
    "print(\"Enter 'S' for Subtraction.\")\n",
    "print(\"Enter 'M' for Multiplication.\")\n",
    "print(\"Enter 'D' for Division.\")\n",
    "\n",
    "choice = input('Enter Choice (A,S,M,D): ')\n",
    "\n",
    "\n",
    "\n",
    "if choice.upper() in ('A','ADD','ADDITION','S','SUBTRACT','SUBTRACTION','M','MULTIPLY','MULTIPLICATION','D','DIVIDE','DIVISION'):\n",
    "    num1 = float(input('Enter first number: '))\n",
    "\n",
    "    num2 = float(input('Enter second number: '))\n",
    "    \n",
    "    if choice.upper() in ('A','ADD','ADDITION'):\n",
    "        print('Result:',num1, '+',num2,'=', add(num1,num2))\n",
    "        \n",
    "    elif choice.upper() in ('S','SUBTRACT','SUBTRACTION'):\n",
    "        print('Result:',num1, '-',num2,'=', substract(num1,num2))\n",
    "        \n",
    "    elif choice.upper() in ('M','MULTIPLY','MULTIPLICATION'):\n",
    "        print('Result:',num1, '*',num2,'=', multiply(num1,num2))\n",
    "        \n",
    "    elif choice.upper() in ('D','DIVIDE','DIVISION'):\n",
    "        print('Result:',num1, '/',num2,'=', divide(num1,num2))\n",
    "\n",
    "else:\n",
    "    print('Please input a correct choice')\n",
    "\n",
    "\n"
   ]
  },
  {
   "cell_type": "code",
   "execution_count": null,
   "id": "9e2fcbaf",
   "metadata": {},
   "outputs": [],
   "source": [
    "print(\"Enter 'A' for Addition.\")\n",
    "print(\"Enter 'S' for Subtraction.\")\n",
    "print(\"Enter 'M' for Multiplication.\")\n",
    "print(\"Enter 'D' for Division.\")\n",
    "\n",
    "choice = input('Enter Choice (A,S,M,D): ')\n",
    "\n",
    "\n",
    "while True:\n",
    "    choice = input('Enter Choice (A,S,M,D): ')\n",
    "    if choice.upper() in ('A','ADD','ADDITION','S','SUBTRACT','SUBTRACTION','M','MULTIPLY','MULTIPLICATION','D','DIVIDE','DIVISION'):\n",
    "        num1 = float(input('Enter first number: '))\n",
    "\n",
    "        num2 = float(input('Enter second number: '))\n",
    "\n",
    "        if choice.upper() in ('A','ADD','ADDITION'):\n",
    "            print('Result:',num1, '+',num2,'=', add(num1,num2))\n",
    "\n",
    "        elif choice.upper() in ('S','SUBTRACT','SUBTRACTION'):\n",
    "            print('Result:',num1, '-',num2,'=', substract(num1,num2))\n",
    "\n",
    "        elif choice.upper() in ('M','MULTIPLY','MULTIPLICATION'):\n",
    "            print('Result:',num1, '*',num2,'=', multiply(num1,num2))\n",
    "\n",
    "        elif choice.upper() in ('D','DIVIDE','DIVISION'):\n",
    "            print('Result:',num1, '/',num2,'=', divide(num1,num2))\n",
    "\n",
    "    else:\n",
    "        print('Please input a correct choice')\n",
    "        \n",
    "    next_calculation = input('Want to do another calculation? (yes/no):')\n",
    "    \n",
    "    if next_calculation.lower() in ('no','n','nope'):\n",
    "        break\n"
   ]
  },
  {
   "cell_type": "code",
   "execution_count": null,
   "id": "cd2c03ed",
   "metadata": {},
   "outputs": [],
   "source": []
  },
  {
   "cell_type": "code",
   "execution_count": null,
   "id": "6fe91ea9",
   "metadata": {},
   "outputs": [],
   "source": []
  },
  {
   "cell_type": "code",
   "execution_count": null,
   "id": "761cbb83",
   "metadata": {},
   "outputs": [],
   "source": []
  },
  {
   "cell_type": "code",
   "execution_count": null,
   "id": "87394a01",
   "metadata": {},
   "outputs": [],
   "source": []
  },
  {
   "cell_type": "code",
   "execution_count": null,
   "id": "6d881e32",
   "metadata": {},
   "outputs": [],
   "source": []
  },
  {
   "cell_type": "code",
   "execution_count": null,
   "id": "369a44d7",
   "metadata": {},
   "outputs": [],
   "source": []
  },
  {
   "cell_type": "code",
   "execution_count": null,
   "id": "815234ef",
   "metadata": {},
   "outputs": [],
   "source": []
  },
  {
   "cell_type": "code",
   "execution_count": null,
   "id": "91d89450",
   "metadata": {},
   "outputs": [],
   "source": []
  },
  {
   "cell_type": "code",
   "execution_count": null,
   "id": "d684b607",
   "metadata": {},
   "outputs": [],
   "source": []
  },
  {
   "cell_type": "code",
   "execution_count": null,
   "id": "8ba2cfb1",
   "metadata": {},
   "outputs": [],
   "source": []
  },
  {
   "cell_type": "code",
   "execution_count": null,
   "id": "8483b2b9",
   "metadata": {},
   "outputs": [],
   "source": []
  }
 ],
 "metadata": {
  "kernelspec": {
   "display_name": "Python 3 (ipykernel)",
   "language": "python",
   "name": "python3"
  },
  "language_info": {
   "codemirror_mode": {
    "name": "ipython",
    "version": 3
   },
   "file_extension": ".py",
   "mimetype": "text/x-python",
   "name": "python",
   "nbconvert_exporter": "python",
   "pygments_lexer": "ipython3",
   "version": "3.11.7"
  }
 },
 "nbformat": 4,
 "nbformat_minor": 5
}
