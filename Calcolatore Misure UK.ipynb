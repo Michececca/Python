{
 "cells": [
  {
   "cell_type": "markdown",
   "id": "c1ff90cf",
   "metadata": {},
   "source": [
    "<h1> Convertitore misure </h1>"
   ]
  },
  {
   "cell_type": "code",
   "execution_count": null,
   "id": "bc6df98d",
   "metadata": {},
   "outputs": [],
   "source": [
    "convert_from = input(\"Enter Starting Unit of Measurement(inches, feet, yards): \")\n",
    "\n",
    "convert_to = input(\"Enter Unit of Measurement to Convert to(inches, feet, yards): \")\n",
    "\n",
    "number_of_inches = input(\"Enter Starting Measurement in Inches: \")\n",
    "\n",
    "number_of_feet = input(\"Enter Starting Measurement in Feet: \")\n",
    "\n",
    "number_of_yards = input(\"Enter Starting Measurement in Yards: \")"
   ]
  },
  {
   "cell_type": "code",
   "execution_count": 2,
   "id": "ba0abd86",
   "metadata": {},
   "outputs": [
    {
     "name": "stdout",
     "output_type": "stream",
     "text": [
      "Enter Starting Unit of Measurement(inches, feet, yards): ft\n",
      "Enter Unit of Measurement to Convert to(inches, feet, yards): yds\n",
      "Enter Starting Measurement in Feet: 24\n",
      "Result: 24 Feet = 8.0 Yards\n"
     ]
    }
   ],
   "source": [
    "convert_from = input(\"Enter Starting Unit of Measurement(inches, feet, yards): \")\n",
    "\n",
    "convert_to = input(\"Enter Unit of Measurement to Convert to(inches, feet, yards): \")\n",
    "\n",
    "if convert_from.lower() in ['inches','in','inch']:\n",
    "    number_of_inches = int(input(\"Enter Starting Measurement in Inches: \"))\n",
    "    if convert_to.lower() in['feet','ft','foot']:\n",
    "        print('Result: ' + str(number_of_inches)  +  ' Inches = '+ str(round(number_of_inches / 12,2)) + ' Feet')\n",
    "    elif convert_to.lower() in ['yards','yard','yds','yd']:\n",
    "        print('Result: ' + str(number_of_inches)  +  ' Inches = '+ str(round(number_of_inches / 36,2)) + ' Yards')\n",
    "    else:\n",
    "        print(\"Your input was incorrect\")\n",
    "elif convert_from.lower() in['feet','ft','foot']:\n",
    "    number_of_feet = int(input(\"Enter Starting Measurement in Feet: \"))\n",
    "    if convert_to.lower() in ['inches','in','inch']:\n",
    "        print('Result: ' + str(number_of_feet)  +  ' Feet = '+ str(round(number_of_feet * 12)) + ' Inches')\n",
    "    elif convert_to.lower() in ['yards','yard','yds','yd']:\n",
    "        print('Result: ' + str(number_of_feet)  +  ' Feet = '+ str(round(number_of_feet / 3,2)) + ' Yards')\n",
    "    else:\n",
    "        print(\"Please enter either Inches, Feet, or Yards\")\n",
    "elif convert_from.lower() in ['yards','yard','yds','yd']:\n",
    "    number_of_yards = int(input(\"Enter Starting Measurement in Yards: \"))\n",
    "    if convert_to.lower() in ['inches','in','inch']:\n",
    "        print('Result: ' + str(number_of_yards)  +  ' Yards = '+ str(round(number_of_yards * 36)) + ' Inches')\n",
    "    elif convert_to.lower() in['feet','ft','foot']:\n",
    "        print('Result: ' + str(number_of_yards)  +  ' Yards = '+ str(round(number_of_yards * 3)) + ' Feet')    \n",
    "    else:\n",
    "        print(\"Please enter either Inches, Feet, or Yards\")\n",
    "else:\n",
    "    print(\"Please enter either Inches, Feet, or Yards\")"
   ]
  },
  {
   "cell_type": "code",
   "execution_count": null,
   "id": "8655b8e7",
   "metadata": {},
   "outputs": [],
   "source": []
  },
  {
   "cell_type": "code",
   "execution_count": null,
   "id": "ec9923f3",
   "metadata": {},
   "outputs": [],
   "source": []
  },
  {
   "cell_type": "code",
   "execution_count": null,
   "id": "7aff347e",
   "metadata": {},
   "outputs": [],
   "source": []
  },
  {
   "cell_type": "code",
   "execution_count": null,
   "id": "b1dc6ac9",
   "metadata": {},
   "outputs": [],
   "source": []
  },
  {
   "cell_type": "code",
   "execution_count": null,
   "id": "abdd56ff",
   "metadata": {},
   "outputs": [],
   "source": []
  },
  {
   "cell_type": "code",
   "execution_count": null,
   "id": "187e3166",
   "metadata": {},
   "outputs": [],
   "source": []
  },
  {
   "cell_type": "code",
   "execution_count": null,
   "id": "c21ff78c",
   "metadata": {},
   "outputs": [],
   "source": []
  },
  {
   "cell_type": "code",
   "execution_count": null,
   "id": "07b368db",
   "metadata": {},
   "outputs": [],
   "source": []
  },
  {
   "cell_type": "code",
   "execution_count": null,
   "id": "e52ac49e",
   "metadata": {},
   "outputs": [],
   "source": []
  }
 ],
 "metadata": {
  "kernelspec": {
   "display_name": "Python 3 (ipykernel)",
   "language": "python",
   "name": "python3"
  },
  "language_info": {
   "codemirror_mode": {
    "name": "ipython",
    "version": 3
   },
   "file_extension": ".py",
   "mimetype": "text/x-python",
   "name": "python",
   "nbconvert_exporter": "python",
   "pygments_lexer": "ipython3",
   "version": "3.11.7"
  }
 },
 "nbformat": 4,
 "nbformat_minor": 5
}
